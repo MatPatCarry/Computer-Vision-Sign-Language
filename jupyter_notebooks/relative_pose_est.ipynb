{
 "cells": [
  {
   "cell_type": "code",
   "execution_count": 1,
   "metadata": {},
   "outputs": [],
   "source": [
    "import numpy as np\n",
    "import os\n",
    "from mediapipe.tasks import python\n",
    "from mediapipe.tasks.python import vision\n",
    "import sqlite3\n",
    "from sklearn.model_selection import train_test_split\n",
    "from tensorflow.keras.utils import to_categorical\n",
    "from keras.callbacks import EarlyStopping, ModelCheckpoint, CSVLogger, ReduceLROnPlateau\n",
    "import tensorflow as tf\n",
    "from collections import Counter"
   ]
  },
  {
   "cell_type": "code",
   "execution_count": 2,
   "metadata": {},
   "outputs": [
    {
     "ename": "ModuleNotFoundError",
     "evalue": "No module named 'functions_ml'",
     "output_type": "error",
     "traceback": [
      "\u001b[1;31m---------------------------------------------------------------------------\u001b[0m",
      "\u001b[1;31mModuleNotFoundError\u001b[0m                       Traceback (most recent call last)",
      "\u001b[1;32mc:\\Users\\Piotr\\Python_projects\\Computer-Vision-Sign-Language\\jupyter_notebooks\\relative_pose_est.ipynb Cell 2\u001b[0m line \u001b[0;36m4\n\u001b[0;32m      <a href='vscode-notebook-cell:/c%3A/Users/Piotr/Python_projects/Computer-Vision-Sign-Language/jupyter_notebooks/relative_pose_est.ipynb#W1sZmlsZQ%3D%3D?line=0'>1</a>\u001b[0m get_ipython()\u001b[39m.\u001b[39mrun_line_magic(\u001b[39m'\u001b[39m\u001b[39mreload_ext\u001b[39m\u001b[39m'\u001b[39m, \u001b[39m'\u001b[39m\u001b[39mautoreload\u001b[39m\u001b[39m'\u001b[39m)\n\u001b[0;32m      <a href='vscode-notebook-cell:/c%3A/Users/Piotr/Python_projects/Computer-Vision-Sign-Language/jupyter_notebooks/relative_pose_est.ipynb#W1sZmlsZQ%3D%3D?line=1'>2</a>\u001b[0m get_ipython()\u001b[39m.\u001b[39mrun_line_magic(\u001b[39m'\u001b[39m\u001b[39mautoreload\u001b[39m\u001b[39m'\u001b[39m, \u001b[39m'\u001b[39m\u001b[39m2\u001b[39m\u001b[39m'\u001b[39m)\n\u001b[1;32m----> <a href='vscode-notebook-cell:/c%3A/Users/Piotr/Python_projects/Computer-Vision-Sign-Language/jupyter_notebooks/relative_pose_est.ipynb#W1sZmlsZQ%3D%3D?line=3'>4</a>\u001b[0m \u001b[39mfrom\u001b[39;00m \u001b[39mfunctions_ml\u001b[39;00m \u001b[39mimport\u001b[39;00m refactor_video_into_input\n",
      "\u001b[1;31mModuleNotFoundError\u001b[0m: No module named 'functions_ml'"
     ]
    }
   ],
   "source": [
    "%reload_ext autoreload\n",
    "%autoreload 2\n",
    "\n",
    "from functions_ml import refactor_video_into_input"
   ]
  },
  {
   "cell_type": "code",
   "execution_count": 2,
   "metadata": {},
   "outputs": [],
   "source": [
    "IMAGE_SIZE = (256, 256)\n",
    "SEQUENCE_LENGTH = 15\n",
    "POSE_START_INDEX = 11\n",
    "POSE_END_INDEX = 23\n",
    "\n",
    "IMG_DIR = 'test_img'\n",
    "RECORDINGS_DIR = 'recordings'\n",
    "LOADED_VIDEOS_DIR = 'loaded_videos'\n",
    "\n",
    "DB_NAME = 'slr.db'\n",
    "TABLE_NAME = 'sign_videos'\n",
    "\n",
    "DETECTOR_MODEL_NAME = 'pose_landmarker.task'"
   ]
  },
  {
   "cell_type": "code",
   "execution_count": 4,
   "metadata": {},
   "outputs": [
    {
     "data": {
      "text/plain": [
       "'c:\\\\Users\\\\Piotr\\\\Python_projects\\\\Computer-Vision-Sign-Language\\\\jupyter_notebooks'"
      ]
     },
     "execution_count": 4,
     "metadata": {},
     "output_type": "execute_result"
    }
   ],
   "source": [
    "os.getcwd()"
   ]
  },
  {
   "cell_type": "code",
   "execution_count": 3,
   "metadata": {},
   "outputs": [],
   "source": [
    "with open(DETECTOR_MODEL_NAME, 'rb') as det_bytes_model:\n",
    "    model_data = det_bytes_model.read()"
   ]
  },
  {
   "cell_type": "code",
   "execution_count": 4,
   "metadata": {},
   "outputs": [],
   "source": [
    "base_options = python.BaseOptions(model_asset_buffer=model_data)\n",
    "running_mode = vision.RunningMode\n",
    "\n",
    "\n",
    "detector_options = vision.PoseLandmarkerOptions(\n",
    "    base_options=base_options,\n",
    "    output_segmentation_masks=False,\n",
    "    running_mode=running_mode.VIDEO)\n"
   ]
  },
  {
   "cell_type": "markdown",
   "metadata": {},
   "source": [
    "### Connect to db"
   ]
  },
  {
   "cell_type": "code",
   "execution_count": 5,
   "metadata": {},
   "outputs": [],
   "source": [
    "conn = sqlite3.connect(os.path.join(\"..\", DB_NAME))\n",
    "cursor = conn.cursor()"
   ]
  },
  {
   "cell_type": "code",
   "execution_count": 8,
   "metadata": {},
   "outputs": [],
   "source": [
    "cursor.execute('SELECT name FROM sign_videos where verified = 1')\n",
    "res = cursor.fetchall()"
   ]
  },
  {
   "cell_type": "code",
   "execution_count": 33,
   "metadata": {},
   "outputs": [],
   "source": [
    "videos = os.listdir(os.path.join(\"..\", LOADED_VIDEOS_DIR)) \\\n",
    "    + os.listdir(os.path.join(\"..\", RECORDINGS_DIR))"
   ]
  },
  {
   "cell_type": "code",
   "execution_count": 34,
   "metadata": {},
   "outputs": [
    {
     "data": {
      "text/plain": [
       "{'2023_11_12_13_49_31__SLR.webm'}"
      ]
     },
     "execution_count": 34,
     "metadata": {},
     "output_type": "execute_result"
    }
   ],
   "source": [
    "to_del = set(res).difference(set(videos))\n",
    "to_del"
   ]
  },
  {
   "cell_type": "code",
   "execution_count": 170,
   "metadata": {},
   "outputs": [],
   "source": [
    "cursor.execute(f\"DELETE FROM sign_videos WHERE name = '2023_11_14_10_40_49__SLR.webm'\")\n",
    "conn.commit()"
   ]
  },
  {
   "cell_type": "markdown",
   "metadata": {},
   "source": [
    "### Get saved videos"
   ]
  },
  {
   "cell_type": "code",
   "execution_count": 6,
   "metadata": {},
   "outputs": [],
   "source": [
    "cursor.execute('SELECT name, video_array, true_label FROM sign_videos where verified = 1')\n",
    "res = cursor.fetchall()"
   ]
  },
  {
   "cell_type": "code",
   "execution_count": 7,
   "metadata": {},
   "outputs": [],
   "source": [
    "v_names = [r[2] for r in res]\n",
    "mapping_classes = {\n",
    "    \"hello\": 0,\n",
    "    \"love\": 1,\n",
    "    \"please\": 2,\n",
    "    \"thank you\": 3,\n",
    "    \"what\": 4,\n",
    "}\n"
   ]
  },
  {
   "cell_type": "code",
   "execution_count": 8,
   "metadata": {},
   "outputs": [
    {
     "data": {
      "text/plain": [
       "Counter({'what': 97, 'thank you': 97, 'please': 96, 'hello': 96, 'love': 96})"
      ]
     },
     "execution_count": 8,
     "metadata": {},
     "output_type": "execute_result"
    }
   ],
   "source": [
    "from collections import Counter\n",
    "Counter(v_names)"
   ]
  },
  {
   "cell_type": "code",
   "execution_count": 23,
   "metadata": {},
   "outputs": [],
   "source": [
    "X, Y = [], []\n",
    "all_keypoints = []"
   ]
  },
  {
   "cell_type": "code",
   "execution_count": 33,
   "metadata": {},
   "outputs": [
    {
     "name": "stdout",
     "output_type": "stream",
     "text": [
      "Processing: ..\\recordings\\please_video_1.mp4\n",
      "Steps: 14 - applying padding\n",
      "\n",
      "\n",
      "Processing: ..\\recordings\\please_video_4.mp4\n",
      "Steps: 14 - applying padding\n",
      "\n",
      "\n",
      "Processing: ..\\recordings\\please_video_5.mp4\n",
      "\n",
      "\n",
      "Processing: ..\\recordings\\please_video_6.mp4\n",
      "\n",
      "\n",
      "Processing: ..\\recordings\\please_video_7.mp4\n",
      "\n",
      "\n",
      "Processing: ..\\recordings\\please_video_8.mp4\n",
      "Steps: 14 - applying padding\n",
      "\n",
      "\n",
      "Processing: ..\\recordings\\please_video_9.mp4\n",
      "\n",
      "\n",
      "Processing: ..\\recordings\\please_video_10.mp4\n",
      "\n",
      "\n",
      "Processing: ..\\recordings\\please_video_11.mp4\n",
      "Steps: 14 - applying padding\n",
      "\n",
      "\n",
      "Processing: ..\\recordings\\please_video_12.mp4\n",
      "\n",
      "\n",
      "Processing: ..\\recordings\\please_video_13.mp4\n",
      "Steps: 14 - applying padding\n",
      "\n",
      "\n",
      "Processing: ..\\recordings\\please_video_14.mp4\n",
      "\n",
      "\n",
      "Processing: ..\\recordings\\please_video_16.mp4\n",
      "\n",
      "\n",
      "Processing: ..\\recordings\\please_video_17.mp4\n",
      "\n",
      "\n",
      "Processing: ..\\recordings\\please_video_18.mp4\n",
      "Steps: 14 - applying padding\n",
      "\n",
      "\n",
      "Processing: ..\\recordings\\please_video_19.mp4\n",
      "\n",
      "\n",
      "Processing: ..\\recordings\\please_video_20.mp4\n",
      "\n",
      "\n",
      "Processing: ..\\recordings\\please_video_21.mp4\n",
      "\n",
      "\n",
      "Processing: ..\\recordings\\please_video_22.mp4\n",
      "\n",
      "\n",
      "Processing: ..\\recordings\\please_video_24.mp4\n",
      "Steps: 14 - applying padding\n",
      "\n",
      "\n",
      "Processing: ..\\recordings\\please_video_25.mp4\n",
      "\n",
      "\n",
      "Processing: ..\\recordings\\please_video_26.mp4\n",
      "\n",
      "\n",
      "Processing: ..\\recordings\\please_video_27.mp4\n",
      "\n",
      "\n",
      "Processing: ..\\recordings\\please_video_28.mp4\n",
      "\n",
      "\n",
      "Processing: ..\\recordings\\please_video_30.mp4\n",
      "Steps: 14 - applying padding\n",
      "\n",
      "\n",
      "Processing: ..\\recordings\\please_video_40.mp4\n",
      "\n",
      "\n",
      "Processing: ..\\recordings\\please_video_44.mp4\n",
      "\n",
      "\n",
      "Processing: ..\\recordings\\please_video_45.mp4\n",
      "Steps: 14 - applying padding\n",
      "\n",
      "\n",
      "Processing: ..\\recordings\\please_video_46.mp4\n",
      "Steps: 13 - applying padding\n",
      "\n",
      "\n",
      "Processing: ..\\recordings\\please_video_48.mp4\n",
      "\n",
      "\n",
      "Processing: ..\\recordings\\please_video_51.mp4\n",
      "Steps: 14 - applying padding\n",
      "\n",
      "\n",
      "Processing: ..\\recordings\\please_video_54.mp4\n",
      "\n",
      "\n",
      "Processing: ..\\recordings\\please_video_55.mp4\n",
      "Steps: 13 - applying padding\n",
      "\n",
      "\n",
      "Processing: ..\\recordings\\please_video_56.mp4\n",
      "Steps: 14 - applying padding\n",
      "\n",
      "\n",
      "Processing: ..\\recordings\\please_video_57.mp4\n",
      "Steps: 14 - applying padding\n",
      "\n",
      "\n",
      "Processing: ..\\recordings\\please_video_58.mp4\n",
      "\n",
      "\n",
      "Processing: ..\\recordings\\please_video_59.mp4\n",
      "\n",
      "\n",
      "Processing: ..\\recordings\\please_video_60.mp4\n",
      "\n",
      "\n",
      "Processing: ..\\recordings\\please_video_61.mp4\n",
      "\n",
      "\n",
      "Processing: ..\\recordings\\please_video_62.mp4\n",
      "Steps: 14 - applying padding\n",
      "\n",
      "\n",
      "Processing: ..\\recordings\\please_video_63.mp4\n",
      "\n",
      "\n",
      "Processing: ..\\recordings\\please_video_64.mp4\n",
      "Steps: 14 - applying padding\n",
      "\n",
      "\n",
      "Processing: ..\\recordings\\please_video_65.mp4\n",
      "\n",
      "\n",
      "Processing: ..\\recordings\\please_video_66.mp4\n",
      "\n",
      "\n",
      "Processing: ..\\recordings\\please_video_67.mp4\n",
      "Steps: 13 - applying padding\n",
      "\n",
      "\n",
      "Processing: ..\\recordings\\please_video_68.mp4\n",
      "\n",
      "\n",
      "Processing: ..\\recordings\\what_video_2.mp4\n",
      "Steps: 14 - applying padding\n",
      "\n",
      "\n",
      "Processing: ..\\recordings\\what_video_4.mp4\n",
      "Steps: 13 - applying padding\n",
      "\n",
      "\n",
      "Processing: ..\\recordings\\what_video_5.mp4\n",
      "Steps: 14 - applying padding\n",
      "\n",
      "\n",
      "Processing: ..\\recordings\\what_video_6.mp4\n",
      "\n",
      "\n",
      "Processing: ..\\recordings\\what_video_7.mp4\n",
      "Steps: 14 - applying padding\n",
      "\n",
      "\n",
      "Processing: ..\\recordings\\what_video_8.mp4\n",
      "Steps: 14 - applying padding\n",
      "\n",
      "\n",
      "Processing: ..\\recordings\\what_video_10.mp4\n",
      "Steps: 14 - applying padding\n",
      "\n",
      "\n",
      "Processing: ..\\recordings\\what_video_12.mp4\n",
      "Steps: 14 - applying padding\n",
      "\n",
      "\n",
      "Processing: ..\\recordings\\what_video_13.mp4\n",
      "\n",
      "\n",
      "Processing: ..\\recordings\\what_video_14.mp4\n",
      "\n",
      "\n",
      "Processing: ..\\recordings\\what_video_15.mp4\n",
      "\n",
      "\n",
      "Processing: ..\\recordings\\what_video_16.mp4\n",
      "\n",
      "\n",
      "Processing: ..\\recordings\\what_video_17.mp4\n",
      "\n",
      "\n",
      "Processing: ..\\recordings\\what_video_18.mp4\n",
      "Steps: 14 - applying padding\n",
      "\n",
      "\n",
      "Processing: ..\\recordings\\what_video_19.mp4\n",
      "Steps: 14 - applying padding\n",
      "\n",
      "\n",
      "Processing: ..\\recordings\\what_video_20.mp4\n",
      "\n",
      "\n",
      "Processing: ..\\recordings\\what_video_21.mp4\n",
      "Steps: 13 - applying padding\n",
      "\n",
      "\n",
      "Processing: ..\\recordings\\what_video_22.mp4\n",
      "Steps: 14 - applying padding\n",
      "\n",
      "\n",
      "Processing: ..\\recordings\\what_video_23.mp4\n",
      "\n",
      "\n",
      "Processing: ..\\recordings\\what_video_24.mp4\n",
      "Steps: 13 - applying padding\n",
      "\n",
      "\n",
      "Processing: ..\\recordings\\what_video_25.mp4\n",
      "\n",
      "\n",
      "Processing: ..\\recordings\\what_video_26.mp4\n",
      "\n",
      "\n",
      "Processing: ..\\recordings\\what_video_27.mp4\n",
      "\n",
      "\n",
      "Processing: ..\\recordings\\what_video_28.mp4\n",
      "\n",
      "\n",
      "Processing: ..\\recordings\\what_video_29.mp4\n",
      "Steps: 13 - applying padding\n",
      "\n",
      "\n",
      "Processing: ..\\recordings\\what_video_30.mp4\n",
      "Steps: 14 - applying padding\n",
      "\n",
      "\n",
      "Processing: ..\\recordings\\what_video_31.mp4\n",
      "\n",
      "\n",
      "Processing: ..\\recordings\\what_video_32.mp4\n",
      "Steps: 14 - applying padding\n",
      "\n",
      "\n",
      "Processing: ..\\recordings\\what_video_33.mp4\n",
      "Steps: 13 - applying padding\n",
      "\n",
      "\n",
      "Processing: ..\\recordings\\what_video_34.mp4\n",
      "\n",
      "\n",
      "Processing: ..\\recordings\\what_video_36.mp4\n",
      "Steps: 13 - applying padding\n",
      "\n",
      "\n",
      "Processing: ..\\recordings\\what_video_37.mp4\n",
      "Steps: 12 - applying padding\n",
      "\n",
      "\n",
      "Processing: ..\\recordings\\what_video_38.mp4\n",
      "Steps: 13 - applying padding\n",
      "\n",
      "\n",
      "Processing: ..\\recordings\\what_video_39.mp4\n",
      "\n",
      "\n",
      "Processing: ..\\recordings\\what_video_40.mp4\n",
      "Steps: 14 - applying padding\n",
      "\n",
      "\n",
      "Processing: ..\\recordings\\what_video_41.mp4\n",
      "Steps: 14 - applying padding\n",
      "\n",
      "\n",
      "Processing: ..\\recordings\\hello_video_1.mp4\n",
      "\n",
      "\n",
      "Processing: ..\\recordings\\hello_video_2.mp4\n",
      "\n",
      "\n",
      "Processing: ..\\recordings\\hello_video_3.mp4\n",
      "\n",
      "\n",
      "Processing: ..\\recordings\\hello_video_4.mp4\n",
      "Steps: 14 - applying padding\n",
      "\n",
      "\n",
      "Processing: ..\\recordings\\hello_video_5.mp4\n",
      "\n",
      "\n",
      "Processing: ..\\recordings\\hello_video_6.mp4\n",
      "\n",
      "\n",
      "Processing: ..\\recordings\\hello_video_7.mp4\n",
      "\n",
      "\n",
      "Processing: ..\\recordings\\hello_video_8.mp4\n",
      "\n",
      "\n",
      "Processing: ..\\recordings\\hello_video_9.mp4\n",
      "Steps: 13 - applying padding\n",
      "\n",
      "\n",
      "Processing: ..\\recordings\\hello_video_10.mp4\n",
      "Steps: 13 - applying padding\n",
      "\n",
      "\n",
      "Processing: ..\\recordings\\hello_video_11.mp4\n",
      "Steps: 14 - applying padding\n",
      "\n",
      "\n",
      "Processing: ..\\recordings\\hello_video_13.mp4\n",
      "Steps: 13 - applying padding\n",
      "\n",
      "\n",
      "Processing: ..\\recordings\\hello_video_14.mp4\n",
      "Steps: 14 - applying padding\n",
      "\n",
      "\n",
      "Processing: ..\\recordings\\hello_video_15.mp4\n",
      "\n",
      "\n",
      "Processing: ..\\recordings\\hello_video_16.mp4\n",
      "Steps: 13 - applying padding\n",
      "\n",
      "\n",
      "Processing: ..\\recordings\\hello_video_17.mp4\n",
      "Steps: 14 - applying padding\n",
      "\n",
      "\n",
      "Processing: ..\\recordings\\hello_video_18.mp4\n",
      "Steps: 14 - applying padding\n",
      "\n",
      "\n",
      "Processing: ..\\recordings\\hello_video_19.mp4\n",
      "Steps: 14 - applying padding\n",
      "\n",
      "\n",
      "Processing: ..\\recordings\\hello_video_21.mp4\n",
      "\n",
      "\n",
      "Processing: ..\\recordings\\hello_video_22.mp4\n",
      "\n",
      "\n",
      "Processing: ..\\recordings\\hello_video_23.mp4\n",
      "Steps: 13 - applying padding\n",
      "\n",
      "\n",
      "Processing: ..\\recordings\\hello_video_24.mp4\n",
      "Steps: 14 - applying padding\n",
      "\n",
      "\n",
      "Processing: ..\\recordings\\hello_video_25.mp4\n",
      "Steps: 14 - applying padding\n",
      "\n",
      "\n",
      "Processing: ..\\recordings\\hello_video_26.mp4\n",
      "\n",
      "\n",
      "Processing: ..\\recordings\\hello_video_27.mp4\n",
      "\n",
      "\n",
      "Processing: ..\\recordings\\hello_video_28.mp4\n",
      "Steps: 14 - applying padding\n",
      "\n",
      "\n",
      "Processing: ..\\recordings\\hello_video_29.mp4\n",
      "\n",
      "\n",
      "Processing: ..\\recordings\\hello_video_30.mp4\n",
      "Steps: 14 - applying padding\n",
      "\n",
      "\n",
      "Processing: ..\\recordings\\hello_video_31.mp4\n",
      "Steps: 14 - applying padding\n",
      "\n",
      "\n",
      "Processing: ..\\recordings\\hello_video_32.mp4\n",
      "Steps: 14 - applying padding\n",
      "\n",
      "\n",
      "Processing: ..\\recordings\\hello_video_33.mp4\n",
      "Steps: 14 - applying padding\n",
      "\n",
      "\n",
      "Processing: ..\\recordings\\hello_video_34.mp4\n",
      "Steps: 14 - applying padding\n",
      "\n",
      "\n",
      "Processing: ..\\recordings\\hello_video_35.mp4\n",
      "\n",
      "\n",
      "Processing: ..\\recordings\\hello_video_36.mp4\n",
      "Steps: 14 - applying padding\n",
      "\n",
      "\n",
      "Processing: ..\\recordings\\hello_video_37.mp4\n",
      "\n",
      "\n",
      "Processing: ..\\recordings\\hello_video_38.mp4\n",
      "\n",
      "\n",
      "Processing: ..\\recordings\\hello_video_39.mp4\n",
      "Steps: 14 - applying padding\n",
      "\n",
      "\n",
      "Processing: ..\\recordings\\hello_video_40.mp4\n",
      "\n",
      "\n",
      "Processing: ..\\recordings\\hello_video_41.mp4\n",
      "\n",
      "\n",
      "Processing: ..\\recordings\\hello_video_42.mp4\n",
      "\n",
      "\n",
      "Processing: ..\\recordings\\hello_video_43.mp4\n",
      "\n",
      "\n",
      "Processing: ..\\recordings\\hello_video_44.mp4\n",
      "Steps: 14 - applying padding\n",
      "\n",
      "\n",
      "Processing: ..\\recordings\\hello_video_46.mp4\n",
      "Steps: 14 - applying padding\n",
      "\n",
      "\n",
      "Processing: ..\\recordings\\hello_video_47.mp4\n",
      "Steps: 13 - applying padding\n",
      "\n",
      "\n",
      "Processing: ..\\recordings\\hello_video_48.mp4\n",
      "Steps: 14 - applying padding\n",
      "\n",
      "\n",
      "Processing: ..\\recordings\\hello_video_49.mp4\n",
      "\n",
      "\n",
      "Processing: ..\\recordings\\love_video_1.mp4\n",
      "Steps: 14 - applying padding\n",
      "\n",
      "\n",
      "Processing: ..\\recordings\\love_video_4.mp4\n",
      "\n",
      "\n",
      "Processing: ..\\recordings\\love_video_5.mp4\n",
      "Steps: 14 - applying padding\n",
      "\n",
      "\n",
      "Processing: ..\\recordings\\love_video_6.mp4\n",
      "\n",
      "\n",
      "Processing: ..\\recordings\\love_video_7.mp4\n",
      "\n",
      "\n",
      "Processing: ..\\recordings\\love_video_8.mp4\n",
      "\n",
      "\n",
      "Processing: ..\\recordings\\love_video_9.mp4\n",
      "Steps: 14 - applying padding\n",
      "\n",
      "\n",
      "Processing: ..\\recordings\\love_video_10.mp4\n",
      "\n",
      "\n",
      "Processing: ..\\recordings\\love_video_11.mp4\n",
      "Steps: 14 - applying padding\n",
      "\n",
      "\n",
      "Processing: ..\\recordings\\love_video_12.mp4\n",
      "\n",
      "\n",
      "Processing: ..\\recordings\\love_video_13.mp4\n",
      "Steps: 13 - applying padding\n",
      "\n",
      "\n",
      "Processing: ..\\recordings\\love_video_14.mp4\n",
      "\n",
      "\n",
      "Processing: ..\\recordings\\love_video_15.mp4\n",
      "\n",
      "\n",
      "Processing: ..\\recordings\\love_video_16.mp4\n",
      "Steps: 14 - applying padding\n",
      "\n",
      "\n",
      "Processing: ..\\recordings\\love_video_17.mp4\n",
      "Steps: 14 - applying padding\n",
      "\n",
      "\n",
      "Processing: ..\\recordings\\love_video_18.mp4\n",
      "Steps: 14 - applying padding\n",
      "\n",
      "\n",
      "Processing: ..\\recordings\\love_video_19.mp4\n",
      "\n",
      "\n",
      "Processing: ..\\recordings\\love_video_20.mp4\n",
      "Steps: 14 - applying padding\n",
      "\n",
      "\n",
      "Processing: ..\\recordings\\love_video_21.mp4\n",
      "Steps: 14 - applying padding\n",
      "\n",
      "\n",
      "Processing: ..\\recordings\\love_video_22.mp4\n",
      "\n",
      "\n",
      "Processing: ..\\recordings\\love_video_23.mp4\n",
      "\n",
      "\n",
      "Processing: ..\\recordings\\love_video_24.mp4\n",
      "Steps: 13 - applying padding\n",
      "\n",
      "\n",
      "Processing: ..\\recordings\\love_video_25.mp4\n",
      "Steps: 13 - applying padding\n",
      "\n",
      "\n",
      "Processing: ..\\recordings\\love_video_27.mp4\n",
      "\n",
      "\n",
      "Processing: ..\\recordings\\love_video_28.mp4\n",
      "\n",
      "\n",
      "Processing: ..\\recordings\\love_video_29.mp4\n",
      "Steps: 14 - applying padding\n",
      "\n",
      "\n",
      "Processing: ..\\recordings\\love_video_31.mp4\n",
      "Steps: 13 - applying padding\n",
      "\n",
      "\n",
      "Processing: ..\\recordings\\love_video_33.mp4\n",
      "Steps: 14 - applying padding\n",
      "\n",
      "\n",
      "Processing: ..\\recordings\\love_video_34.mp4\n",
      "\n",
      "\n",
      "Processing: ..\\recordings\\love_video_35.mp4\n",
      "Steps: 14 - applying padding\n",
      "\n",
      "\n",
      "Processing: ..\\recordings\\love_video_36.mp4\n",
      "\n",
      "\n",
      "Processing: ..\\recordings\\love_video_37.mp4\n",
      "Steps: 14 - applying padding\n",
      "\n",
      "\n",
      "Processing: ..\\recordings\\love_video_38.mp4\n",
      "Steps: 14 - applying padding\n",
      "\n",
      "\n",
      "Processing: ..\\recordings\\love_video_41.mp4\n",
      "Steps: 13 - applying padding\n",
      "\n",
      "\n",
      "Processing: ..\\recordings\\love_video_42.mp4\n",
      "Steps: 13 - applying padding\n",
      "\n",
      "\n",
      "Processing: ..\\recordings\\love_video_43.mp4\n",
      "Steps: 14 - applying padding\n",
      "\n",
      "\n",
      "Processing: ..\\recordings\\love_video_44.mp4\n",
      "Steps: 13 - applying padding\n",
      "\n",
      "\n",
      "Processing: ..\\recordings\\love_video_45.mp4\n",
      "Steps: 14 - applying padding\n",
      "\n",
      "\n",
      "Processing: ..\\recordings\\love_video_46.mp4\n",
      "Steps: 14 - applying padding\n",
      "\n",
      "\n",
      "Processing: ..\\recordings\\thank_you_video_1.mp4\n",
      "\n",
      "\n",
      "Processing: ..\\recordings\\thank_you_video_2.mp4\n",
      "\n",
      "\n",
      "Processing: ..\\recordings\\thank_you_video_3.mp4\n",
      "Steps: 14 - applying padding\n",
      "\n",
      "\n",
      "Processing: ..\\recordings\\thank_you_video_4.mp4\n",
      "Steps: 13 - applying padding\n",
      "\n",
      "\n",
      "Processing: ..\\recordings\\thank_you_video_5.mp4\n",
      "Steps: 14 - applying padding\n",
      "\n",
      "\n",
      "Processing: ..\\recordings\\thank_you_video_6.mp4\n",
      "\n",
      "\n",
      "Processing: ..\\recordings\\thank_you_video_7.mp4\n",
      "\n",
      "\n",
      "Processing: ..\\recordings\\thank_you_video_8.mp4\n",
      "\n",
      "\n",
      "Processing: ..\\recordings\\thank_you_video_9.mp4\n",
      "Steps: 14 - applying padding\n",
      "\n",
      "\n",
      "Processing: ..\\recordings\\thank_you_video_11.mp4\n",
      "\n",
      "\n",
      "Processing: ..\\recordings\\thank_you_video_13.mp4\n",
      "Steps: 14 - applying padding\n",
      "\n",
      "\n",
      "Processing: ..\\recordings\\thank_you_video_14.mp4\n",
      "Steps: 13 - applying padding\n",
      "\n",
      "\n",
      "Processing: ..\\recordings\\thank_you_video_15.mp4\n",
      "\n",
      "\n",
      "Processing: ..\\recordings\\thank_you_video_16.mp4\n",
      "Steps: 13 - applying padding\n",
      "\n",
      "\n",
      "Processing: ..\\recordings\\thank_you_video_17.mp4\n",
      "\n",
      "\n",
      "Processing: ..\\recordings\\thank_you_video_18.mp4\n",
      "Steps: 14 - applying padding\n",
      "\n",
      "\n",
      "Processing: ..\\recordings\\thank_you_video_19.mp4\n",
      "\n",
      "\n",
      "Processing: ..\\recordings\\thank_you_video_20.mp4\n",
      "Steps: 14 - applying padding\n",
      "\n",
      "\n",
      "Processing: ..\\recordings\\thank_you_video_21.mp4\n",
      "Steps: 14 - applying padding\n",
      "\n",
      "\n",
      "Processing: ..\\recordings\\thank_you_video_22.mp4\n",
      "\n",
      "\n",
      "Processing: ..\\recordings\\thank_you_video_23.mp4\n",
      "Steps: 14 - applying padding\n",
      "\n",
      "\n",
      "Processing: ..\\recordings\\thank_you_video_24.mp4\n",
      "Steps: 13 - applying padding\n",
      "\n",
      "\n",
      "Processing: ..\\recordings\\thank_you_video_25.mp4\n",
      "\n",
      "\n",
      "Processing: ..\\recordings\\thank_you_video_26.mp4\n",
      "\n",
      "\n",
      "Processing: ..\\recordings\\thank_you_video_27.mp4\n",
      "Steps: 14 - applying padding\n",
      "\n",
      "\n",
      "Processing: ..\\recordings\\thank_you_video_28.mp4\n",
      "\n",
      "\n",
      "Processing: ..\\recordings\\thank_you_video_29.mp4\n",
      "\n",
      "\n",
      "Processing: ..\\recordings\\thank_you_video_30.mp4\n",
      "\n",
      "\n",
      "Processing: ..\\recordings\\thank_you_video_31.mp4\n",
      "Steps: 13 - applying padding\n",
      "\n",
      "\n",
      "Processing: ..\\recordings\\thank_you_video_32.mp4\n",
      "Steps: 13 - applying padding\n",
      "\n",
      "\n",
      "Processing: ..\\recordings\\thank_you_video_33.mp4\n",
      "Steps: 12 - applying padding\n",
      "\n",
      "\n",
      "Processing: ..\\recordings\\thank_you_video_34.mp4\n",
      "\n",
      "\n",
      "Processing: ..\\recordings\\thank_you_video_35.mp4\n",
      "\n",
      "\n",
      "Processing: ..\\recordings\\thank_you_video_36.mp4\n",
      "Steps: 14 - applying padding\n",
      "\n",
      "\n",
      "Processing: ..\\recordings\\thank_you_video_37.mp4\n",
      "Steps: 14 - applying padding\n",
      "\n",
      "\n",
      "Processing: ..\\recordings\\thank_you_video_39.mp4\n",
      "\n",
      "\n",
      "Processing: ..\\recordings\\thank_you_video_41.mp4\n",
      "\n",
      "\n",
      "Processing: ..\\recordings\\thank_you_video_42.mp4\n",
      "\n",
      "\n",
      "Processing: ..\\recordings\\thank_you_video_43.mp4\n",
      "\n",
      "\n",
      "Processing: ..\\recordings\\thank_you_video_44.mp4\n",
      "Steps: 13 - applying padding\n",
      "\n",
      "\n",
      "Processing: ..\\recordings\\thank_you_video_45.mp4\n",
      "Steps: 14 - applying padding\n",
      "\n",
      "\n",
      "Processing: ..\\recordings\\thank_you_video_46.mp4\n",
      "Steps: 14 - applying padding\n",
      "\n",
      "\n",
      "Processing: ..\\recordings\\thank_you_video_47.mp4\n",
      "Steps: 13 - applying padding\n",
      "\n",
      "\n",
      "Processing: ..\\recordings\\thank_you_video_48.mp4\n",
      "Steps: 14 - applying padding\n",
      "\n",
      "\n",
      "Processing: ..\\recordings\\thank_you_video_49.mp4\n",
      "Steps: 14 - applying padding\n",
      "\n",
      "\n",
      "Processing: ..\\recordings\\thank_you_video_50.mp4\n",
      "\n",
      "\n",
      "Processing: ..\\recordings\\thank_you_video_51.mp4\n",
      "\n",
      "\n",
      "Processing: ..\\loaded_videos\\2023_10_24_20_33_09__323800491_6103208943076657_4244789627451732699_n.mp4\n",
      "\n",
      "\n",
      "Processing: ..\\loaded_videos\\2023_10_24_20_39_56__SLR.mp4\n",
      "Steps: 13 - applying padding\n",
      "\n",
      "\n",
      "Processing: ..\\loaded_videos\\2023_10_24_21_05_05__SLR.webm\n",
      "\n",
      "\n",
      "Processing: ..\\loaded_videos\\2023_10_24_21_12_32__SLR.webm\n",
      "\n",
      "\n",
      "Processing: ..\\loaded_videos\\2023_10_24_21_16_49__SLR.webm\n",
      "\n",
      "\n",
      "Processing: ..\\loaded_videos\\2023_10_29_15_57_58__SLR.webm\n",
      "\n",
      "\n",
      "Processing: ..\\loaded_videos\\2023_10_29_15_58_39__SLR.webm\n",
      "\n",
      "\n",
      "Processing: ..\\loaded_videos\\2023_10_29_15_59_30__SLR.webm\n",
      "\n",
      "\n",
      "Processing: ..\\loaded_videos\\2023_10_29_15_59_57__SLR.webm\n",
      "\n",
      "\n",
      "Processing: ..\\loaded_videos\\2023_10_29_16_00_40__SLR.webm\n",
      "\n",
      "\n",
      "Processing: ..\\loaded_videos\\2023_10_29_16_01_21__SLR.webm\n",
      "\n",
      "\n",
      "Processing: ..\\loaded_videos\\2023_10_29_16_01_56__SLR.webm\n",
      "\n",
      "\n",
      "Processing: ..\\loaded_videos\\2023_10_29_16_02_17__SLR.mp4\n",
      "Steps: 13 - applying padding\n",
      "\n",
      "\n",
      "Processing: ..\\loaded_videos\\2023_10_29_16_02_31__SLR.mp4\n",
      "Steps: 14 - applying padding\n",
      "\n",
      "\n",
      "Processing: ..\\loaded_videos\\2023_10_29_16_02_44__SLR.mp4\n",
      "\n",
      "\n",
      "Processing: ..\\loaded_videos\\2023_10_29_16_02_54__SLR.mp4\n",
      "\n",
      "\n",
      "Processing: ..\\loaded_videos\\2023_10_29_16_03_17__SLR.mp4\n",
      "Steps: 14 - applying padding\n",
      "\n",
      "\n",
      "Processing: ..\\loaded_videos\\2023_10_29_16_03_32__SLR.mp4\n",
      "\n",
      "\n",
      "Processing: ..\\loaded_videos\\2023_10_29_16_03_56__SLR.mp4\n",
      "Steps: 13 - applying padding\n",
      "\n",
      "\n",
      "Processing: ..\\loaded_videos\\2023_10_29_16_04_08__SLR.mp4\n",
      "\n",
      "\n",
      "Processing: ..\\loaded_videos\\2023_10_29_16_04_19__SLR.mp4\n",
      "\n",
      "\n",
      "Processing: ..\\loaded_videos\\2023_10_29_16_04_55__SLR.mp4\n",
      "Steps: 14 - applying padding\n",
      "\n",
      "\n",
      "Processing: ..\\loaded_videos\\2023_10_29_16_05_03__SLR.mp4\n",
      "Steps: 14 - applying padding\n",
      "\n",
      "\n",
      "Processing: ..\\loaded_videos\\2023_10_29_16_05_13__SLR.mp4\n",
      "\n",
      "\n",
      "Processing: ..\\loaded_videos\\2023_10_29_16_05_26__SLR.mp4\n",
      "Steps: 14 - applying padding\n",
      "\n",
      "\n",
      "Processing: ..\\loaded_videos\\2023_10_29_16_05_40__SLR.mp4\n",
      "Steps: 14 - applying padding\n",
      "\n",
      "\n",
      "Processing: ..\\loaded_videos\\2023_10_29_16_05_51__SLR.mp4\n",
      "Steps: 14 - applying padding\n",
      "\n",
      "\n",
      "Processing: ..\\loaded_videos\\2023_10_29_16_06_03__SLR.mp4\n",
      "Steps: 12 - applying padding\n",
      "\n",
      "\n",
      "Processing: ..\\loaded_videos\\2023_10_29_16_06_12__SLR.mp4\n",
      "Steps: 14 - applying padding\n",
      "\n",
      "\n",
      "Processing: ..\\loaded_videos\\2023_10_29_16_06_22__SLR.mp4\n",
      "Steps: 14 - applying padding\n",
      "\n",
      "\n",
      "Processing: ..\\loaded_videos\\2023_10_29_16_06_32__SLR.mp4\n",
      "\n",
      "\n",
      "Processing: ..\\loaded_videos\\2023_10_29_16_06_44__SLR.mp4\n",
      "\n",
      "\n",
      "Processing: ..\\loaded_videos\\2023_10_29_16_06_56__SLR.mp4\n",
      "Steps: 14 - applying padding\n",
      "\n",
      "\n",
      "Processing: ..\\loaded_videos\\2023_10_29_16_07_05__SLR.mp4\n",
      "\n",
      "\n",
      "Processing: ..\\loaded_videos\\2023_10_29_16_07_15__SLR.mp4\n",
      "\n",
      "\n",
      "Processing: ..\\loaded_videos\\2023_10_29_19_51_28__SLR.webm\n",
      "\n",
      "\n",
      "Processing: ..\\loaded_videos\\2023_10_29_19_51_49__SLR.webm\n",
      "\n",
      "\n",
      "Processing: ..\\loaded_videos\\2023_10_29_19_52_08__SLR.webm\n",
      "\n",
      "\n",
      "Processing: ..\\loaded_videos\\2023_10_29_19_52_36__SLR.webm\n",
      "\n",
      "\n",
      "Processing: ..\\loaded_videos\\2023_10_29_19_53_02__SLR.webm\n",
      "\n",
      "\n",
      "Processing: ..\\loaded_videos\\2023_10_29_19_53_24__SLR.webm\n",
      "\n",
      "\n",
      "Processing: ..\\loaded_videos\\2023_10_29_19_53_42__SLR.webm\n",
      "\n",
      "\n",
      "Processing: ..\\loaded_videos\\2023_10_29_19_54_09__SLR.webm\n",
      "\n",
      "\n",
      "Processing: ..\\loaded_videos\\2023_10_29_19_55_18__SLR.webm\n",
      "\n",
      "\n",
      "Processing: ..\\loaded_videos\\2023_10_29_19_56_09__SLR.webm\n",
      "\n",
      "\n",
      "Processing: ..\\loaded_videos\\2023_10_29_19_57_23__SLR.webm\n",
      "\n",
      "\n",
      "Processing: ..\\loaded_videos\\2023_10_29_19_57_50__SLR.webm\n",
      "\n",
      "\n",
      "Processing: ..\\loaded_videos\\2023_10_29_19_58_10__SLR.webm\n",
      "\n",
      "\n",
      "Processing: ..\\loaded_videos\\2023_10_29_19_58_58__SLR.webm\n",
      "\n",
      "\n",
      "Processing: ..\\loaded_videos\\2023_10_30_11_29_59__SLR.mp4\n",
      "\n",
      "\n",
      "Processing: ..\\loaded_videos\\2023_10_30_11_30_19__SLR.mp4\n",
      "Steps: 14 - applying padding\n",
      "\n",
      "\n",
      "Processing: ..\\loaded_videos\\2023_10_30_11_30_37__SLR.mp4\n",
      "Steps: 14 - applying padding\n",
      "\n",
      "\n",
      "Processing: ..\\loaded_videos\\2023_10_30_11_34_03__SLR.webm\n",
      "\n",
      "\n",
      "Processing: ..\\loaded_videos\\2023_10_30_11_34_27__SLR.webm\n",
      "\n",
      "\n",
      "Processing: ..\\loaded_videos\\2023_10_30_11_35_32__SLR.webm\n",
      "\n",
      "\n",
      "Processing: ..\\loaded_videos\\2023_10_30_11_35_56__SLR.webm\n",
      "\n",
      "\n",
      "Processing: ..\\loaded_videos\\2023_10_30_11_36_26__SLR.webm\n",
      "\n",
      "\n",
      "Processing: ..\\loaded_videos\\2023_10_30_11_37_00__SLR.webm\n",
      "\n",
      "\n",
      "Processing: ..\\loaded_videos\\2023_10_30_11_37_39__SLR.webm\n",
      "\n",
      "\n",
      "Processing: ..\\loaded_videos\\2023_10_30_11_38_19__SLR.webm\n",
      "\n",
      "\n",
      "Processing: ..\\loaded_videos\\2023_10_30_11_40_15__SLR.webm\n",
      "\n",
      "\n",
      "Processing: ..\\loaded_videos\\2023_10_30_11_40_35__SLR.webm\n",
      "\n",
      "\n",
      "Processing: ..\\loaded_videos\\2023_10_30_11_40_58__SLR.webm\n",
      "\n",
      "\n",
      "Processing: ..\\loaded_videos\\2023_10_30_11_41_20__SLR.webm\n",
      "\n",
      "\n",
      "Processing: ..\\loaded_videos\\2023_10_30_11_41_48__SLR.webm\n",
      "\n",
      "\n",
      "Processing: ..\\loaded_videos\\2023_10_30_11_42_17__SLR.webm\n",
      "\n",
      "\n",
      "Processing: ..\\loaded_videos\\2023_10_30_11_42_35__SLR.webm\n",
      "\n",
      "\n",
      "Processing: ..\\loaded_videos\\2023_10_30_11_43_07__SLR.webm\n",
      "\n",
      "\n",
      "Processing: ..\\loaded_videos\\2023_10_30_11_43_40__SLR.webm\n",
      "\n",
      "\n",
      "Processing: ..\\loaded_videos\\2023_10_30_11_45_56__SLR.webm\n",
      "\n",
      "\n",
      "Processing: ..\\loaded_videos\\2023_10_30_11_46_20__SLR.webm\n",
      "\n",
      "\n",
      "Processing: ..\\loaded_videos\\2023_10_30_11_46_40__SLR.webm\n",
      "\n",
      "\n",
      "Processing: ..\\loaded_videos\\2023_10_30_11_47_01__SLR.webm\n",
      "\n",
      "\n",
      "Processing: ..\\loaded_videos\\2023_10_30_11_47_17__SLR.webm\n",
      "\n",
      "\n",
      "Processing: ..\\loaded_videos\\2023_10_30_11_47_40__SLR.webm\n",
      "\n",
      "\n",
      "Processing: ..\\loaded_videos\\2023_10_30_11_47_55__SLR.webm\n",
      "\n",
      "\n",
      "Processing: ..\\loaded_videos\\2023_10_30_11_48_15__SLR.webm\n",
      "\n",
      "\n",
      "Processing: ..\\loaded_videos\\2023_10_30_11_48_29__SLR.webm\n",
      "\n",
      "\n",
      "Processing: ..\\loaded_videos\\2023_10_30_11_48_59__SLR.webm\n",
      "\n",
      "\n",
      "Processing: ..\\loaded_videos\\2023_10_30_11_49_31__SLR.webm\n",
      "\n",
      "\n",
      "Processing: ..\\loaded_videos\\2023_10_30_11_50_10__SLR.webm\n",
      "\n",
      "\n",
      "Processing: ..\\loaded_videos\\2023_10_30_11_50_25__SLR.webm\n",
      "\n",
      "\n",
      "Processing: ..\\loaded_videos\\2023_10_30_11_50_43__SLR.webm\n",
      "\n",
      "\n",
      "Processing: ..\\loaded_videos\\2023_10_30_11_50_57__SLR.webm\n",
      "\n",
      "\n",
      "Processing: ..\\loaded_videos\\2023_10_30_11_51_27__SLR.webm\n",
      "\n",
      "\n",
      "Processing: ..\\loaded_videos\\2023_11_05_15_11_03__SLR.webm\n",
      "\n",
      "\n",
      "Processing: ..\\loaded_videos\\2023_11_05_15_11_20__SLR.webm\n",
      "\n",
      "\n",
      "Processing: ..\\loaded_videos\\2023_11_05_15_11_45__SLR.webm\n",
      "\n",
      "\n",
      "Processing: ..\\loaded_videos\\2023_11_05_15_12_02__SLR.webm\n",
      "\n",
      "\n",
      "Processing: ..\\loaded_videos\\2023_11_05_15_12_19__SLR.webm\n",
      "\n",
      "\n",
      "Processing: ..\\loaded_videos\\2023_11_05_15_12_34__SLR.webm\n",
      "\n",
      "\n",
      "Processing: ..\\loaded_videos\\2023_11_05_15_12_48__SLR.webm\n",
      "\n",
      "\n",
      "Processing: ..\\loaded_videos\\2023_11_05_15_13_01__SLR.webm\n",
      "\n",
      "\n",
      "Processing: ..\\loaded_videos\\2023_11_05_15_13_14__SLR.webm\n",
      "\n",
      "\n",
      "Processing: ..\\loaded_videos\\2023_11_05_15_13_37__SLR.webm\n",
      "\n",
      "\n",
      "Processing: ..\\loaded_videos\\2023_11_05_15_13_55__SLR.webm\n",
      "\n",
      "\n",
      "Processing: ..\\loaded_videos\\2023_11_05_15_14_14__SLR.webm\n",
      "\n",
      "\n",
      "Processing: ..\\loaded_videos\\2023_11_05_15_14_28__SLR.webm\n",
      "\n",
      "\n",
      "Processing: ..\\loaded_videos\\2023_11_05_15_14_43__SLR.webm\n",
      "\n",
      "\n",
      "Processing: ..\\loaded_videos\\2023_11_05_15_15_41__SLR.webm\n",
      "\n",
      "\n",
      "Processing: ..\\loaded_videos\\2023_11_05_15_15_53__SLR.webm\n",
      "\n",
      "\n",
      "Processing: ..\\loaded_videos\\2023_11_05_15_16_08__SLR.webm\n",
      "\n",
      "\n",
      "Processing: ..\\loaded_videos\\2023_11_06_11_02_49__SLR.webm\n",
      "\n",
      "\n",
      "Processing: ..\\loaded_videos\\2023_11_07_19_54_27__SLR.webm\n",
      "\n",
      "\n",
      "Processing: ..\\loaded_videos\\2023_11_07_19_54_46__SLR.webm\n",
      "\n",
      "\n",
      "Processing: ..\\loaded_videos\\2023_11_07_19_55_03__SLR.webm\n",
      "\n",
      "\n",
      "Processing: ..\\loaded_videos\\2023_11_07_19_55_20__SLR.webm\n",
      "\n",
      "\n",
      "Processing: ..\\loaded_videos\\2023_11_07_19_55_36__SLR.webm\n",
      "\n",
      "\n",
      "Processing: ..\\loaded_videos\\2023_11_07_19_56_01__SLR.webm\n",
      "\n",
      "\n",
      "Processing: ..\\loaded_videos\\2023_11_07_19_56_14__SLR.webm\n",
      "\n",
      "\n",
      "Processing: ..\\loaded_videos\\2023_11_07_19_56_32__SLR.webm\n",
      "\n",
      "\n",
      "Processing: ..\\loaded_videos\\2023_11_07_19_56_48__SLR.webm\n",
      "\n",
      "\n",
      "Processing: ..\\loaded_videos\\2023_11_07_19_57_06__SLR.webm\n",
      "\n",
      "\n",
      "Processing: ..\\loaded_videos\\2023_11_07_19_57_21__SLR.webm\n",
      "\n",
      "\n",
      "Processing: ..\\loaded_videos\\2023_11_07_19_57_48__SLR.webm\n",
      "\n",
      "\n",
      "Processing: ..\\loaded_videos\\2023_11_07_19_58_07__SLR.webm\n",
      "\n",
      "\n",
      "Processing: ..\\loaded_videos\\2023_11_07_19_58_39__SLR.webm\n",
      "\n",
      "\n",
      "Processing: ..\\loaded_videos\\2023_11_07_19_59_19__SLR.webm\n",
      "\n",
      "\n",
      "Processing: ..\\loaded_videos\\2023_11_07_19_59_50__SLR.webm\n",
      "\n",
      "\n",
      "Processing: ..\\loaded_videos\\2023_11_07_20_00_08__SLR.webm\n",
      "\n",
      "\n",
      "Processing: ..\\loaded_videos\\2023_11_07_20_01_09__SLR.webm\n",
      "\n",
      "\n",
      "Processing: ..\\loaded_videos\\2023_11_07_20_01_34__SLR.webm\n",
      "\n",
      "\n",
      "Processing: ..\\loaded_videos\\2023_11_07_20_01_48__SLR.webm\n",
      "\n",
      "\n",
      "Processing: ..\\loaded_videos\\2023_11_07_20_02_10__SLR.webm\n",
      "\n",
      "\n",
      "Processing: ..\\loaded_videos\\2023_11_07_20_02_27__SLR.webm\n",
      "\n",
      "\n",
      "Processing: ..\\loaded_videos\\2023_11_07_20_02_53__SLR.webm\n",
      "\n",
      "\n",
      "Processing: ..\\loaded_videos\\2023_11_07_20_03_15__SLR.webm\n",
      "\n",
      "\n",
      "Processing: ..\\loaded_videos\\2023_11_07_20_03_30__SLR.webm\n",
      "\n",
      "\n",
      "Processing: ..\\loaded_videos\\2023_11_07_20_03_46__SLR.webm\n",
      "\n",
      "\n",
      "Processing: ..\\loaded_videos\\2023_11_07_20_04_01__SLR.webm\n",
      "\n",
      "\n",
      "Processing: ..\\loaded_videos\\2023_11_07_20_04_13__SLR.webm\n",
      "\n",
      "\n",
      "Processing: ..\\loaded_videos\\2023_11_07_20_04_25__SLR.webm\n",
      "\n",
      "\n",
      "Processing: ..\\loaded_videos\\2023_11_07_20_04_53__SLR.webm\n",
      "\n",
      "\n",
      "Processing: ..\\loaded_videos\\2023_11_07_20_05_04__SLR.webm\n",
      "\n",
      "\n",
      "Processing: ..\\loaded_videos\\2023_11_07_20_05_16__SLR.webm\n",
      "\n",
      "\n",
      "Processing: ..\\loaded_videos\\2023_11_07_20_14_12__SLR.webm\n",
      "\n",
      "\n",
      "Processing: ..\\loaded_videos\\2023_11_07_20_14_27__SLR.webm\n",
      "\n",
      "\n",
      "Processing: ..\\loaded_videos\\2023_11_07_20_14_41__SLR.webm\n",
      "\n",
      "\n",
      "Processing: ..\\loaded_videos\\2023_11_07_20_14_59__SLR.webm\n",
      "\n",
      "\n",
      "Processing: ..\\loaded_videos\\2023_11_07_20_15_15__SLR.webm\n",
      "\n",
      "\n",
      "Processing: ..\\loaded_videos\\2023_11_07_20_15_27__SLR.webm\n",
      "\n",
      "\n",
      "Processing: ..\\loaded_videos\\2023_11_07_20_15_39__SLR.webm\n",
      "\n",
      "\n",
      "Processing: ..\\loaded_videos\\2023_11_07_20_15_53__SLR.webm\n",
      "\n",
      "\n",
      "Processing: ..\\loaded_videos\\2023_11_07_20_16_05__SLR.webm\n",
      "\n",
      "\n",
      "Processing: ..\\loaded_videos\\2023_11_07_20_16_18__SLR.webm\n",
      "\n",
      "\n",
      "Processing: ..\\loaded_videos\\2023_11_07_20_16_30__SLR.webm\n",
      "\n",
      "\n",
      "Processing: ..\\loaded_videos\\2023_11_07_20_16_43__SLR.webm\n",
      "\n",
      "\n",
      "Processing: ..\\loaded_videos\\2023_11_07_20_16_56__SLR.webm\n",
      "\n",
      "\n",
      "Processing: ..\\loaded_videos\\2023_11_07_20_17_09__SLR.webm\n",
      "\n",
      "\n",
      "Processing: ..\\loaded_videos\\2023_11_07_20_17_22__SLR.webm\n",
      "\n",
      "\n",
      "Processing: ..\\loaded_videos\\2023_11_07_20_17_35__SLR.webm\n",
      "\n",
      "\n",
      "Processing: ..\\loaded_videos\\2023_11_07_20_17_48__SLR.webm\n",
      "\n",
      "\n",
      "Processing: ..\\loaded_videos\\2023_11_07_20_18_00__SLR.webm\n",
      "\n",
      "\n",
      "Processing: ..\\loaded_videos\\2023_11_07_20_18_12__SLR.webm\n",
      "\n",
      "\n",
      "Processing: ..\\loaded_videos\\2023_11_07_20_18_25__SLR.webm\n",
      "\n",
      "\n",
      "Processing: ..\\loaded_videos\\2023_11_07_20_19_00__SLR.webm\n",
      "\n",
      "\n",
      "Processing: ..\\loaded_videos\\2023_11_07_20_19_14__SLR.webm\n",
      "\n",
      "\n",
      "Processing: ..\\loaded_videos\\2023_11_07_20_19_26__SLR.webm\n",
      "\n",
      "\n",
      "Processing: ..\\loaded_videos\\2023_11_07_20_19_37__SLR.webm\n",
      "\n",
      "\n",
      "Processing: ..\\loaded_videos\\2023_11_07_20_19_52__SLR.webm\n",
      "\n",
      "\n",
      "Processing: ..\\loaded_videos\\2023_11_07_20_20_10__SLR.webm\n",
      "\n",
      "\n",
      "Processing: ..\\loaded_videos\\2023_11_07_20_20_22__SLR.webm\n",
      "\n",
      "\n",
      "Processing: ..\\loaded_videos\\2023_11_07_20_20_40__SLR.webm\n",
      "\n",
      "\n",
      "Processing: ..\\loaded_videos\\2023_11_07_20_20_53__SLR.webm\n",
      "\n",
      "\n",
      "Processing: ..\\loaded_videos\\2023_11_07_20_21_10__SLR.webm\n",
      "\n",
      "\n",
      "Processing: ..\\loaded_videos\\2023_11_07_20_21_22__SLR.webm\n",
      "\n",
      "\n",
      "Processing: ..\\loaded_videos\\2023_11_07_20_21_32__SLR.webm\n",
      "\n",
      "\n",
      "Processing: ..\\loaded_videos\\2023_11_07_20_21_47__SLR.webm\n",
      "\n",
      "\n",
      "Processing: ..\\loaded_videos\\2023_11_07_20_22_16__SLR.webm\n",
      "\n",
      "\n",
      "Processing: ..\\loaded_videos\\2023_11_07_20_22_29__SLR.webm\n",
      "\n",
      "\n",
      "Processing: ..\\loaded_videos\\2023_11_07_20_29_17__SLR.webm\n",
      "\n",
      "\n",
      "Processing: ..\\loaded_videos\\2023_11_07_20_32_02__SLR.webm\n",
      "\n",
      "\n",
      "Processing: ..\\loaded_videos\\2023_11_07_20_32_17__SLR.webm\n",
      "\n",
      "\n",
      "Processing: ..\\loaded_videos\\2023_11_07_20_32_31__SLR.webm\n",
      "\n",
      "\n",
      "Processing: ..\\loaded_videos\\2023_11_07_20_32_44__SLR.webm\n",
      "\n",
      "\n",
      "Processing: ..\\loaded_videos\\2023_11_07_20_32_59__SLR.webm\n",
      "\n",
      "\n",
      "Processing: ..\\loaded_videos\\2023_11_07_20_33_10__SLR.webm\n",
      "\n",
      "\n",
      "Processing: ..\\loaded_videos\\2023_11_07_20_33_26__SLR.webm\n",
      "\n",
      "\n",
      "Processing: ..\\loaded_videos\\2023_11_07_21_21_49__SLR.webm\n",
      "\n",
      "\n",
      "Processing: ..\\loaded_videos\\2023_11_07_21_22_18__SLR.webm\n",
      "\n",
      "\n",
      "Processing: ..\\loaded_videos\\2023_11_07_21_22_29__SLR.webm\n",
      "\n",
      "\n",
      "Processing: ..\\loaded_videos\\2023_11_07_21_22_47__SLR.webm\n",
      "\n",
      "\n",
      "Processing: ..\\loaded_videos\\2023_11_07_21_23_04__SLR.webm\n",
      "\n",
      "\n",
      "Processing: ..\\loaded_videos\\2023_11_07_21_23_22__SLR.webm\n",
      "\n",
      "\n",
      "Processing: ..\\loaded_videos\\2023_11_07_21_23_35__SLR.webm\n",
      "\n",
      "\n",
      "Processing: ..\\loaded_videos\\2023_11_07_21_23_48__SLR.webm\n",
      "\n",
      "\n",
      "Processing: ..\\loaded_videos\\2023_11_07_21_24_00__SLR.webm\n",
      "\n",
      "\n",
      "Processing: ..\\loaded_videos\\2023_11_07_21_24_14__SLR.webm\n",
      "\n",
      "\n",
      "Processing: ..\\loaded_videos\\2023_11_07_21_24_26__SLR.webm\n",
      "\n",
      "\n",
      "Processing: ..\\loaded_videos\\2023_11_07_21_24_39__SLR.webm\n",
      "\n",
      "\n",
      "Processing: ..\\loaded_videos\\2023_11_07_21_24_51__SLR.webm\n",
      "\n",
      "\n",
      "Processing: ..\\loaded_videos\\2023_11_07_21_25_03__SLR.webm\n",
      "\n",
      "\n",
      "Processing: ..\\loaded_videos\\2023_11_07_21_25_16__SLR.webm\n",
      "\n",
      "\n",
      "Processing: ..\\loaded_videos\\2023_11_07_21_25_54__SLR.webm\n",
      "\n",
      "\n",
      "Processing: ..\\loaded_videos\\2023_11_07_21_26_17__SLR.webm\n",
      "\n",
      "\n",
      "Processing: ..\\loaded_videos\\2023_11_07_21_26_30__SLR.webm\n",
      "\n",
      "\n",
      "Processing: ..\\loaded_videos\\2023_11_07_21_26_43__SLR.webm\n",
      "\n",
      "\n",
      "Processing: ..\\loaded_videos\\2023_11_07_21_26_56__SLR.webm\n",
      "\n",
      "\n",
      "Processing: ..\\loaded_videos\\2023_11_07_21_27_11__SLR.webm\n",
      "\n",
      "\n",
      "Processing: ..\\loaded_videos\\2023_11_07_21_27_24__SLR.webm\n",
      "\n",
      "\n",
      "Processing: ..\\loaded_videos\\2023_11_07_21_27_38__SLR.webm\n",
      "\n",
      "\n",
      "Processing: ..\\loaded_videos\\2023_11_07_21_27_51__SLR.webm\n",
      "\n",
      "\n",
      "Processing: ..\\loaded_videos\\2023_11_07_21_28_02__SLR.webm\n",
      "\n",
      "\n",
      "Processing: ..\\loaded_videos\\2023_11_07_21_28_14__SLR.webm\n",
      "\n",
      "\n",
      "Processing: ..\\loaded_videos\\2023_11_07_21_28_31__SLR.webm\n",
      "\n",
      "\n",
      "Processing: ..\\loaded_videos\\2023_11_07_21_28_42__SLR.webm\n",
      "\n",
      "\n",
      "Processing: ..\\loaded_videos\\2023_11_07_21_28_53__SLR.webm\n",
      "\n",
      "\n",
      "Processing: ..\\loaded_videos\\2023_11_07_21_29_08__SLR.webm\n",
      "\n",
      "\n",
      "Processing: ..\\loaded_videos\\2023_11_07_21_29_21__SLR.webm\n",
      "\n",
      "\n",
      "Processing: ..\\loaded_videos\\2023_11_07_21_29_42__SLR.webm\n",
      "\n",
      "\n",
      "Processing: ..\\loaded_videos\\2023_11_07_21_29_55__SLR.webm\n",
      "\n",
      "\n",
      "Processing: ..\\loaded_videos\\2023_11_07_21_30_09__SLR.webm\n",
      "\n",
      "\n",
      "Processing: ..\\loaded_videos\\2023_11_07_21_30_30__SLR.webm\n",
      "\n",
      "\n",
      "Processing: ..\\loaded_videos\\2023_11_07_21_30_54__SLR.webm\n",
      "\n",
      "\n",
      "Processing: ..\\loaded_videos\\2023_11_07_21_31_07__SLR.webm\n",
      "\n",
      "\n",
      "Processing: ..\\loaded_videos\\2023_11_07_21_31_17__SLR.webm\n",
      "\n",
      "\n",
      "Processing: ..\\loaded_videos\\2023_11_07_21_31_28__SLR.webm\n",
      "\n",
      "\n",
      "Processing: ..\\loaded_videos\\2023_11_07_21_31_47__SLR.webm\n",
      "\n",
      "\n",
      "Processing: ..\\loaded_videos\\2023_11_07_21_32_13__SLR.webm\n",
      "\n",
      "\n",
      "Processing: ..\\loaded_videos\\2023_11_07_21_32_26__SLR.webm\n",
      "\n",
      "\n",
      "Processing: ..\\loaded_videos\\2023_11_07_21_32_41__SLR.webm\n",
      "\n",
      "\n",
      "Processing: ..\\loaded_videos\\2023_11_07_21_32_53__SLR.webm\n",
      "\n",
      "\n",
      "Processing: ..\\loaded_videos\\2023_11_07_21_33_05__SLR.webm\n",
      "\n",
      "\n",
      "Processing: ..\\loaded_videos\\2023_11_11_12_15_23__SLR.webm\n",
      "\n",
      "\n",
      "Processing: ..\\loaded_videos\\2023_11_11_12_16_24__SLR.webm\n",
      "\n",
      "\n",
      "Processing: ..\\loaded_videos\\2023_11_12_12_26_39__SLR.webm\n",
      "\n",
      "\n",
      "Processing: ..\\loaded_videos\\2023_11_12_12_27_39__SLR.webm\n",
      "\n",
      "\n",
      "Processing: ..\\loaded_videos\\2023_11_12_13_34_37__SLR.webm\n",
      "\n",
      "\n",
      "Processing: ..\\loaded_videos\\2023_11_12_13_34_59__SLR.webm\n",
      "\n",
      "\n",
      "Processing: ..\\loaded_videos\\2023_11_12_13_35_32__SLR.webm\n",
      "\n",
      "\n",
      "Processing: ..\\loaded_videos\\2023_11_12_13_35_53__SLR.webm\n",
      "\n",
      "\n",
      "Processing: ..\\loaded_videos\\2023_11_12_13_36_31__SLR.webm\n",
      "\n",
      "\n",
      "Processing: ..\\loaded_videos\\2023_11_12_13_37_06__SLR.webm\n",
      "\n",
      "\n",
      "Processing: ..\\loaded_videos\\2023_11_12_13_38_57__SLR.webm\n",
      "\n",
      "\n",
      "Processing: ..\\loaded_videos\\2023_11_12_13_39_12__SLR.webm\n",
      "\n",
      "\n",
      "Processing: ..\\loaded_videos\\2023_11_12_13_39_33__SLR.webm\n",
      "\n",
      "\n",
      "Processing: ..\\loaded_videos\\2023_11_12_13_39_50__SLR.webm\n",
      "\n",
      "\n",
      "Processing: ..\\loaded_videos\\2023_11_12_13_40_22__SLR.webm\n",
      "\n",
      "\n",
      "Processing: ..\\loaded_videos\\2023_11_12_13_40_39__SLR.webm\n",
      "\n",
      "\n",
      "Processing: ..\\loaded_videos\\2023_11_12_13_41_12__SLR.webm\n",
      "\n",
      "\n",
      "Processing: ..\\loaded_videos\\2023_11_12_13_41_53__SLR.webm\n",
      "\n",
      "\n",
      "Processing: ..\\loaded_videos\\2023_11_12_13_42_19__SLR.webm\n",
      "\n",
      "\n",
      "Processing: ..\\loaded_videos\\2023_11_12_13_43_55__SLR.webm\n",
      "\n",
      "\n",
      "Processing: ..\\loaded_videos\\2023_11_12_13_44_25__SLR.webm\n",
      "\n",
      "\n",
      "Processing: ..\\loaded_videos\\2023_11_12_13_44_42__SLR.webm\n",
      "\n",
      "\n",
      "Processing: ..\\loaded_videos\\2023_11_12_13_45_01__SLR.webm\n",
      "\n",
      "\n",
      "Processing: ..\\loaded_videos\\2023_11_12_13_45_43__SLR.webm\n",
      "\n",
      "\n",
      "Processing: ..\\loaded_videos\\2023_11_12_13_46_11__SLR.webm\n",
      "\n",
      "\n",
      "Processing: ..\\loaded_videos\\2023_11_12_13_46_47__SLR.webm\n",
      "\n",
      "\n",
      "Processing: ..\\loaded_videos\\2023_11_12_13_47_21__SLR.webm\n",
      "\n",
      "\n",
      "Processing: ..\\loaded_videos\\2023_11_12_13_47_40__SLR.webm\n",
      "\n",
      "\n",
      "Processing: ..\\loaded_videos\\2023_11_12_13_48_20__SLR.webm\n",
      "\n",
      "\n",
      "Processing: ..\\loaded_videos\\2023_11_12_13_48_37__SLR.webm\n",
      "\n",
      "\n",
      "Processing: ..\\loaded_videos\\2023_11_12_13_49_11__SLR.webm\n",
      "\n",
      "\n",
      "Processing: ..\\loaded_videos\\2023_11_12_13_50_32__SLR.webm\n",
      "\n",
      "\n",
      "Processing: ..\\loaded_videos\\2023_11_13_14_28_28__SLR.webm\n",
      "\n",
      "\n",
      "Processing: ..\\loaded_videos\\2023_11_13_14_29_28__SLR.webm\n",
      "\n",
      "\n",
      "Processing: ..\\loaded_videos\\2023_11_13_15_20_02__SLR.webm\n",
      "\n",
      "\n",
      "Processing: ..\\loaded_videos\\2023_11_13_15_20_25__SLR.webm\n",
      "\n",
      "\n",
      "Processing: ..\\loaded_videos\\2023_11_14_10_38_20__SLR.webm\n",
      "\n",
      "\n",
      "Processing: ..\\loaded_videos\\2023_11_14_10_38_49__SLR.webm\n",
      "\n",
      "\n",
      "Processing: ..\\loaded_videos\\2023_11_14_10_39_16__SLR.webm\n",
      "\n",
      "\n",
      "Processing: ..\\loaded_videos\\2023_11_14_10_39_57__SLR.webm\n",
      "\n",
      "\n",
      "Processing: ..\\loaded_videos\\2023_11_14_10_40_17__SLR.webm\n",
      "\n",
      "\n"
     ]
    }
   ],
   "source": [
    "for video_name, _, gesture in res:\n",
    "\n",
    "    video_path = os.path.join(\"..\", RECORDINGS_DIR, video_name)\n",
    "\n",
    "    if not os.path.exists(video_path):\n",
    "        video_path = os.path.join(\"..\", LOADED_VIDEOS_DIR, video_name)\n",
    "\n",
    "    if not os.path.exists(video_path):\n",
    "        print(f\"Path: {video_path} does not exist\")\n",
    "\n",
    "    print(f\"Processing: {video_path}\")\n",
    "\n",
    "    try:\n",
    "\n",
    "        keypoints = refactor_video_into_input(\n",
    "            video_path=video_path,\n",
    "            use_visibility=False,\n",
    "            pose_indexes=(POSE_START_INDEX, POSE_END_INDEX),\n",
    "            video_task=True,\n",
    "            detector_options=detector_options,\n",
    "            sequence_length=15,\n",
    "        )\n",
    "\n",
    "    except Exception as e:\n",
    "\n",
    "        print(f\"For {video_name} error occured: {e}\")\n",
    "\n",
    "    else:\n",
    "\n",
    "        if not isinstance(keypoints, np.ndarray):\n",
    "            continue\n",
    "\n",
    "        # reshaped = keypoints.reshape(SEQUENCE_LENGTH, -1)\n",
    "\n",
    "        \n",
    "        update_sql = \"\"\"\n",
    "            UPDATE sign_videos SET video_array = ? WHERE name = ? \n",
    "        \"\"\"\n",
    "\n",
    "        try:\n",
    "            cursor.execute(update_sql, (keypoints.tobytes(), video_name))\n",
    "        except Exception as e:\n",
    "            print(f\"For {video_name} error occured: {e}\")\n",
    "        else:\n",
    "            conn.commit()\n",
    "\n",
    "        all_keypoints.append(keypoints)\n",
    "        Y.append(gesture)\n",
    "\n",
    "    finally:\n",
    "        print('\\n')"
   ]
  },
  {
   "cell_type": "markdown",
   "metadata": {},
   "source": [
    "### Get keypoints for rotated image"
   ]
  },
  {
   "cell_type": "code",
   "execution_count": 9,
   "metadata": {},
   "outputs": [],
   "source": [
    "translation_vec = np.array([-0.5, 0, -0.5])\n",
    "# translation_vec2 = np.array([-0.5, 0, 0.5])"
   ]
  },
  {
   "cell_type": "code",
   "execution_count": 10,
   "metadata": {},
   "outputs": [],
   "source": [
    "X = np.array([np.frombuffer(v, dtype=np.float16).reshape(SEQUENCE_LENGTH, -1, 3) for name, v, true_label in res])\n",
    "Y = [label for _, _, label in res]"
   ]
  },
  {
   "cell_type": "code",
   "execution_count": 11,
   "metadata": {},
   "outputs": [],
   "source": [
    "mapping_classes = {\n",
    "    \"hello\": 0,\n",
    "    \"love\": 1,\n",
    "    \"please\": 2,\n",
    "    \"thank you\": 3,\n",
    "    \"what\": 4,\n",
    "}\n",
    "\n",
    "Y = [mapping_classes.get(y) for y in Y]"
   ]
  },
  {
   "cell_type": "code",
   "execution_count": 12,
   "metadata": {},
   "outputs": [],
   "source": [
    "X_train, X_val, Y_train, Y_val = train_test_split(\n",
    "    X, \n",
    "    Y,\n",
    "    train_size=0.9, \n",
    "    random_state=42, \n",
    "    stratify=Y\n",
    ")"
   ]
  },
  {
   "cell_type": "markdown",
   "metadata": {},
   "source": [
    "### Augmentation horizontal flip"
   ]
  },
  {
   "cell_type": "code",
   "execution_count": 13,
   "metadata": {},
   "outputs": [],
   "source": [
    "X_aug_copy = X_train.copy()\n",
    "X_aug_copy[:, :, :, 0] = 1 - X_aug_copy[:, :, :, 0]\n",
    "X_aug_copy[:, :, :, 2] = 1 - X_aug_copy[:, :, :, 2]\n",
    "X_train = np.concatenate((X_train, X_aug_copy), axis=0)"
   ]
  },
  {
   "cell_type": "code",
   "execution_count": 14,
   "metadata": {},
   "outputs": [],
   "source": [
    "Y_train = np.concatenate((Y_train, Y_train), axis=0)"
   ]
  },
  {
   "cell_type": "code",
   "execution_count": 15,
   "metadata": {},
   "outputs": [],
   "source": [
    "del X_aug_copy"
   ]
  },
  {
   "cell_type": "code",
   "execution_count": 17,
   "metadata": {},
   "outputs": [
    {
     "data": {
      "text/plain": [
       "[PhysicalDevice(name='/physical_device:GPU:0', device_type='GPU')]"
      ]
     },
     "execution_count": 17,
     "metadata": {},
     "output_type": "execute_result"
    }
   ],
   "source": [
    "tf.config.list_physical_devices('GPU')"
   ]
  },
  {
   "cell_type": "code",
   "execution_count": 23,
   "metadata": {},
   "outputs": [],
   "source": [
    "train_angles_x = np.arange(-15, 15, 2.5)\n",
    "train_angels_y = np.arange(-35, 36, 1)\n",
    "train_angles_z = np.arange(-3, 4, 2)"
   ]
  },
  {
   "cell_type": "code",
   "execution_count": 19,
   "metadata": {},
   "outputs": [
    {
     "data": {
      "text/plain": [
       "(array([-15. , -12.5, -10. ,  -7.5,  -5. ,  -2.5,   0. ,   2.5,   5. ,\n",
       "          7.5,  10. ,  12.5]),\n",
       " array([-35, -34, -33, -32, -31, -30, -29, -28, -27, -26, -25, -24, -23,\n",
       "        -22, -21, -20, -19, -18, -17, -16, -15, -14, -13, -12, -11, -10,\n",
       "         -9,  -8,  -7,  -6,  -5,  -4,  -3,  -2,  -1,   0,   1,   2,   3,\n",
       "          4,   5,   6,   7,   8,   9,  10,  11,  12,  13,  14,  15,  16,\n",
       "         17,  18,  19,  20,  21,  22,  23,  24,  25,  26,  27,  28,  29,\n",
       "         30,  31,  32,  33,  34,  35]),\n",
       " array([-3, -1,  1,  3]))"
      ]
     },
     "execution_count": 19,
     "metadata": {},
     "output_type": "execute_result"
    }
   ],
   "source": [
    "train_angles_x, train_angels_y, train_angles_z"
   ]
  },
  {
   "cell_type": "code",
   "execution_count": 16,
   "metadata": {},
   "outputs": [],
   "source": [
    "def get_rot_y(angle: int):\n",
    "\n",
    "    theta = np.radians(angle)\n",
    "\n",
    "    return np.array([\n",
    "        [np.cos(theta), 0, -np.sin(theta)],\n",
    "        [0, 1, 0],\n",
    "        [np.sin(theta), 0, np.cos(theta)]\n",
    "    ])"
   ]
  },
  {
   "cell_type": "code",
   "execution_count": 17,
   "metadata": {},
   "outputs": [],
   "source": [
    "def get_rot_x(angle: int):\n",
    "\n",
    "    theta = np.radians(angle)\n",
    "\n",
    "    return np.array([\n",
    "        [1, 0, 0],\n",
    "        [0, np.cos(theta), -np.sin(theta)],\n",
    "        [0, np.sin(theta), np.cos(theta)]\n",
    "    ])\n"
   ]
  },
  {
   "cell_type": "code",
   "execution_count": 18,
   "metadata": {},
   "outputs": [],
   "source": [
    "def get_rot_z(angle: int):\n",
    "\n",
    "    theta = np.radians(angle)\n",
    "\n",
    "    return np.array([\n",
    "        [np.cos(theta), -np.sin(theta), 0],\n",
    "        [np.sin(theta), np.cos(theta), 0],\n",
    "        [0, 0, 1]\n",
    "    ])\n"
   ]
  },
  {
   "cell_type": "code",
   "execution_count": 19,
   "metadata": {},
   "outputs": [],
   "source": [
    "from typing import Callable"
   ]
  },
  {
   "cell_type": "code",
   "execution_count": 20,
   "metadata": {},
   "outputs": [],
   "source": [
    "np.random.seed(42)"
   ]
  },
  {
   "cell_type": "code",
   "execution_count": 21,
   "metadata": {},
   "outputs": [],
   "source": [
    "def rot_aug(\n",
    "    X: np.array,\n",
    "    Y: np.array or list,\n",
    "    rot_mat_f: Callable,\n",
    "    angles: np.array,\n",
    "    set_part: float = 0.5,\n",
    "    translation_vec: np.array = np.array([-0.5, 0, -0.5])) -> np.array:\n",
    "\n",
    "    Y = np.array(Y)\n",
    "\n",
    "    X_aug = None\n",
    "    Y_aug = None\n",
    "\n",
    "    for angle in angles:\n",
    "\n",
    "        if angle == 0:\n",
    "            continue\n",
    "\n",
    "        rotation_matrix = rot_mat_f(angle)\n",
    "        random_rotate_indexes = np.random.choice(X.shape[0], int(X.shape[0] * set_part), replace=False)\n",
    "        \n",
    "        rotation_result = (\n",
    "            (rotation_matrix @ (X[random_rotate_indexes].reshape(-1, 3) + translation_vec).T).T \n",
    "            - translation_vec\n",
    "        ).reshape(len(random_rotate_indexes), SEQUENCE_LENGTH, -1, 3)\n",
    "\n",
    "        if X_aug is None:\n",
    "\n",
    "            X_aug = rotation_result\n",
    "            Y_aug = Y[random_rotate_indexes]\n",
    "            continue\n",
    "\n",
    "        X_aug = np.concatenate((X_aug, rotation_result))\n",
    "        Y_aug = np.concatenate((Y_aug, Y[random_rotate_indexes]))\n",
    "\n",
    "    return np.concatenate((X, X_aug)), np.concatenate((Y, Y_aug))"
   ]
  },
  {
   "cell_type": "code",
   "execution_count": 24,
   "metadata": {},
   "outputs": [],
   "source": [
    "X_aug, Y_aug = rot_aug(\n",
    "    X=X_train, \n",
    "    Y=Y_train,\n",
    "    rot_mat_f=get_rot_y, \n",
    "    angles=train_angels_y,\n",
    "    set_part=0.5,\n",
    "    translation_vec=translation_vec\n",
    ")"
   ]
  },
  {
   "cell_type": "code",
   "execution_count": 25,
   "metadata": {},
   "outputs": [
    {
     "data": {
      "text/plain": [
       "((31176, 15, 12, 3), (31176,))"
      ]
     },
     "execution_count": 25,
     "metadata": {},
     "output_type": "execute_result"
    }
   ],
   "source": [
    "X_aug.shape, Y_aug.shape"
   ]
  },
  {
   "cell_type": "code",
   "execution_count": 26,
   "metadata": {},
   "outputs": [],
   "source": [
    "X_aug, Y_aug = rot_aug(\n",
    "    X=X_aug, \n",
    "    Y=Y_aug,\n",
    "    rot_mat_f=get_rot_x, \n",
    "    angles=train_angles_x,\n",
    "    set_part=0.3\n",
    ")"
   ]
  },
  {
   "cell_type": "code",
   "execution_count": 27,
   "metadata": {},
   "outputs": [
    {
     "data": {
      "text/plain": [
       "((134048, 15, 12, 3), (134048,))"
      ]
     },
     "execution_count": 27,
     "metadata": {},
     "output_type": "execute_result"
    }
   ],
   "source": [
    "X_aug.shape, Y_aug.shape"
   ]
  },
  {
   "cell_type": "code",
   "execution_count": 28,
   "metadata": {},
   "outputs": [],
   "source": [
    "X_aug, Y_aug = rot_aug(\n",
    "    X=X_aug, \n",
    "    Y=Y_aug,\n",
    "    rot_mat_f=get_rot_z, \n",
    "    angles=train_angles_z,\n",
    "    set_part=0.2\n",
    ")"
   ]
  },
  {
   "cell_type": "code",
   "execution_count": 29,
   "metadata": {},
   "outputs": [
    {
     "data": {
      "text/plain": [
       "((241284, 15, 12, 3), (241284,))"
      ]
     },
     "execution_count": 29,
     "metadata": {},
     "output_type": "execute_result"
    }
   ],
   "source": [
    "X_aug.shape, Y_aug.shape"
   ]
  },
  {
   "cell_type": "code",
   "execution_count": 30,
   "metadata": {},
   "outputs": [
    {
     "data": {
      "text/plain": [
       "[1, 0, 3, 2, 5, 4, 7, 6, 9, 8, 11, 10]"
      ]
     },
     "execution_count": 30,
     "metadata": {},
     "output_type": "execute_result"
    }
   ],
   "source": [
    "swap_pattern = [i + 1 if i % 2 == 0 else i - 1 for i in range(12)]\n",
    "swap_pattern"
   ]
  },
  {
   "cell_type": "code",
   "execution_count": 31,
   "metadata": {},
   "outputs": [],
   "source": [
    "indexes_swap_hands = np.random.choice(\n",
    "    np.arange(X_aug.shape[0]), \n",
    "    int(0.07 * X_aug.shape[0]), \n",
    "    replace=False\n",
    ")"
   ]
  },
  {
   "cell_type": "code",
   "execution_count": 32,
   "metadata": {},
   "outputs": [],
   "source": [
    "X_aug[indexes_swap_hands] = X_aug[indexes_swap_hands][:, :, swap_pattern]"
   ]
  },
  {
   "cell_type": "code",
   "execution_count": 33,
   "metadata": {},
   "outputs": [
    {
     "data": {
      "text/plain": [
       "(241284, 15, 12, 3)"
      ]
     },
     "execution_count": 33,
     "metadata": {},
     "output_type": "execute_result"
    }
   ],
   "source": [
    "X_aug.shape"
   ]
  },
  {
   "cell_type": "code",
   "execution_count": 34,
   "metadata": {},
   "outputs": [],
   "source": [
    "indexes_gauss = np.random.choice(\n",
    "    np.arange(X_aug.shape[0]), \n",
    "    int(0.3 * X_aug.shape[0]), \n",
    "    replace=False\n",
    ")"
   ]
  },
  {
   "cell_type": "code",
   "execution_count": 35,
   "metadata": {},
   "outputs": [],
   "source": [
    "gauss_noise = np.random.normal(0, 0.1, size=len(indexes_gauss))"
   ]
  },
  {
   "cell_type": "code",
   "execution_count": 36,
   "metadata": {},
   "outputs": [],
   "source": [
    "gauss_noise = gauss_noise[:, np.newaxis, np.newaxis, np.newaxis]"
   ]
  },
  {
   "cell_type": "code",
   "execution_count": 37,
   "metadata": {},
   "outputs": [],
   "source": [
    "X_aug[indexes_gauss, :, :, :] += gauss_noise"
   ]
  },
  {
   "cell_type": "code",
   "execution_count": 38,
   "metadata": {},
   "outputs": [],
   "source": [
    "X_aug = X_aug.reshape(X_aug.shape[0], SEQUENCE_LENGTH, -1)\n",
    "Y_aug = to_categorical(Y_aug)"
   ]
  },
  {
   "cell_type": "code",
   "execution_count": 39,
   "metadata": {},
   "outputs": [],
   "source": [
    "X_aug = tf.cast(X_aug, tf.float32)\n",
    "Y_aug = tf.cast(Y_aug, tf.float32)"
   ]
  },
  {
   "cell_type": "markdown",
   "metadata": {},
   "source": [
    "### Simple training"
   ]
  },
  {
   "cell_type": "code",
   "execution_count": 40,
   "metadata": {},
   "outputs": [],
   "source": [
    "from tensorflow.keras.layers import LSTM, Dense, Dropout, Bidirectional, LayerNormalization"
   ]
  },
  {
   "cell_type": "code",
   "execution_count": 41,
   "metadata": {},
   "outputs": [],
   "source": [
    "def create_lstm_model(input_shape, units):\n",
    "\n",
    "    model = tf.keras.Sequential([\n",
    "\n",
    "            Bidirectional(\n",
    "                LSTM(\n",
    "                    64,\n",
    "                    return_sequences=False, \n",
    "                    activation='tanh', \n",
    "                    input_shape=input_shape, \n",
    "                    recurrent_dropout=0\n",
    "                )\n",
    "            ),\n",
    "            Dropout(0.25),\n",
    "            Dense(units=units, activation=\"softmax\")\n",
    "        ])\n",
    "\n",
    "    return model\n",
    "    "
   ]
  },
  {
   "cell_type": "markdown",
   "metadata": {},
   "source": [
    "### **Set hyperparams and needed callbacks**"
   ]
  },
  {
   "cell_type": "code",
   "execution_count": null,
   "metadata": {},
   "outputs": [],
   "source": [
    "import tensorflow_addons as tfa"
   ]
  },
  {
   "cell_type": "code",
   "execution_count": 43,
   "metadata": {},
   "outputs": [],
   "source": [
    "LR = 0.0015\n",
    "EPOCHS = 50\n",
    "ES_PATIENCE = 4\n",
    "LR_REDUCE = 1\n",
    "BATCH_SIZE = 1024\n",
    "VAL_BATCH_SIZE = 1024"
   ]
  },
  {
   "cell_type": "code",
   "execution_count": 44,
   "metadata": {},
   "outputs": [],
   "source": [
    "from tensorflow.keras.callbacks import LearningRateScheduler\n",
    "\n",
    "def lr_scheduler(epoch, lr):\n",
    "    if epoch > 0:\n",
    "        return lr * 1.5\n",
    "    else:\n",
    "        return lr\n",
    "\n",
    "# Create the LearningRateScheduler callback\n",
    "lr_callback = LearningRateScheduler(lr_scheduler)"
   ]
  },
  {
   "cell_type": "code",
   "execution_count": 45,
   "metadata": {},
   "outputs": [],
   "source": [
    "lstm_model = create_lstm_model(input_shape=(SEQUENCE_LENGTH, X_aug.shape[-1]), units=len(set(Y)))\n",
    "\n",
    "lstm_model.compile(optimizer=tfa.optimizers.AdamW(weight_decay=0.002, learning_rate=LR, clipnorm=1.0), #choosing optimizer\n",
    "                    loss=tf.keras.losses.CategoricalCrossentropy(from_logits=False), #loss function\n",
    "                    metrics=['categorical_accuracy']) \n",
    "\n",
    "# path_to_convlstm_model = os.path.join('models', 'lstm_more_data.ckpt')\n",
    "path_to_convlstm_history = os.path.join('models', 'ROT_AUG_TRAIN_15seq.csv')\n",
    "\n",
    "callbacks = [EarlyStopping(monitor='val_loss', patience=ES_PATIENCE, restore_best_weights=True),\n",
    "             CSVLogger(path_to_convlstm_history, append=True),\n",
    "             lr_callback]"
   ]
  },
  {
   "cell_type": "markdown",
   "metadata": {},
   "source": [
    "### **Train model**"
   ]
  },
  {
   "cell_type": "code",
   "execution_count": 46,
   "metadata": {},
   "outputs": [
    {
     "name": "stdout",
     "output_type": "stream",
     "text": [
      "Epoch 1/50\n",
      "189/189 [==============================] - 7s 15ms/step - loss: 0.5428 - categorical_accuracy: 0.8049 - val_loss: 0.1753 - val_categorical_accuracy: 0.9495 - lr: 0.0015\n",
      "Epoch 2/50\n",
      "189/189 [==============================] - 2s 11ms/step - loss: 0.1666 - categorical_accuracy: 0.9478 - val_loss: 0.1141 - val_categorical_accuracy: 0.9664 - lr: 0.0022\n",
      "Epoch 3/50\n",
      "189/189 [==============================] - 2s 11ms/step - loss: 0.1575 - categorical_accuracy: 0.9480 - val_loss: 0.0936 - val_categorical_accuracy: 0.9676 - lr: 0.0034\n",
      "Epoch 4/50\n",
      "189/189 [==============================] - 2s 11ms/step - loss: 0.1245 - categorical_accuracy: 0.9593 - val_loss: 0.0741 - val_categorical_accuracy: 0.9766 - lr: 0.0051\n",
      "Epoch 5/50\n",
      "189/189 [==============================] - 2s 11ms/step - loss: 0.1098 - categorical_accuracy: 0.9639 - val_loss: 0.0730 - val_categorical_accuracy: 0.9770 - lr: 0.0076\n",
      "Epoch 6/50\n",
      "189/189 [==============================] - 2s 11ms/step - loss: 0.0841 - categorical_accuracy: 0.9725 - val_loss: 0.0411 - val_categorical_accuracy: 0.9888 - lr: 0.0114\n",
      "Epoch 7/50\n",
      "189/189 [==============================] - 2s 11ms/step - loss: 0.0830 - categorical_accuracy: 0.9730 - val_loss: 0.1778 - val_categorical_accuracy: 0.9430 - lr: 0.0171\n",
      "Epoch 8/50\n",
      "189/189 [==============================] - 2s 11ms/step - loss: 0.1052 - categorical_accuracy: 0.9659 - val_loss: 0.0558 - val_categorical_accuracy: 0.9839 - lr: 0.0256\n",
      "Epoch 9/50\n",
      "189/189 [==============================] - 2s 11ms/step - loss: 0.1068 - categorical_accuracy: 0.9656 - val_loss: 0.0359 - val_categorical_accuracy: 0.9897 - lr: 0.0384\n",
      "Epoch 10/50\n",
      "189/189 [==============================] - 2s 11ms/step - loss: 0.1079 - categorical_accuracy: 0.9652 - val_loss: 0.0399 - val_categorical_accuracy: 0.9864 - lr: 0.0577\n",
      "Epoch 11/50\n",
      "189/189 [==============================] - 2s 11ms/step - loss: 0.8717 - categorical_accuracy: 0.6846 - val_loss: 0.5251 - val_categorical_accuracy: 0.8479 - lr: 0.0865\n",
      "Epoch 12/50\n",
      "189/189 [==============================] - 2s 11ms/step - loss: 0.7276 - categorical_accuracy: 0.7426 - val_loss: 0.4465 - val_categorical_accuracy: 0.8705 - lr: 0.1297\n",
      "Epoch 13/50\n",
      "189/189 [==============================] - 2s 11ms/step - loss: 0.6088 - categorical_accuracy: 0.7960 - val_loss: 0.5067 - val_categorical_accuracy: 0.8472 - lr: 0.1946\n"
     ]
    }
   ],
   "source": [
    "lstm_history = lstm_model.fit(  \n",
    "    x=X_aug,\n",
    "    y=Y_aug,\n",
    "    # validation_data=(X_val_kp_diff, Y_val),\n",
    "    validation_split=0.2,\n",
    "    epochs=EPOCHS,\n",
    "    batch_size=BATCH_SIZE,\n",
    "    validation_batch_size=VAL_BATCH_SIZE,\n",
    "    workers=-1,\n",
    "    use_multiprocessing=True,\n",
    "    callbacks = callbacks\n",
    ")"
   ]
  },
  {
   "cell_type": "code",
   "execution_count": 47,
   "metadata": {},
   "outputs": [],
   "source": [
    "n = len(lstm_history.history.get('loss'))"
   ]
  },
  {
   "cell_type": "code",
   "execution_count": 48,
   "metadata": {},
   "outputs": [
    {
     "data": {
      "image/png": "[encoded data removed]",
      "text/plain": [
       "<Figure size 1000x500 with 1 Axes>"
      ]
     },
     "metadata": {},
     "output_type": "display_data"
    }
   ],
   "source": [
    "import matplotlib.pyplot as plt\n",
    "\n",
    "plt.style.use('ggplot')\n",
    "\n",
    "fig, ax = plt.subplots(figsize=(10, 5))\n",
    "ax.plot(np.arange(n), lstm_history.history.get('loss'), color='blue', label='train')\n",
    "ax.plot(np.arange(n), lstm_history.history.get('val_loss'), color='orange', label='val')\n",
    "\n",
    "plt.legend()\n",
    "plt.show()\n"
   ]
  },
  {
   "cell_type": "code",
   "execution_count": 53,
   "metadata": {},
   "outputs": [],
   "source": [
    "X_train_preds = lstm_model.predict(X_aug)"
   ]
  },
  {
   "cell_type": "code",
   "execution_count": 56,
   "metadata": {},
   "outputs": [
    {
     "data": {
      "text/plain": [
       "0.9899951923873941"
      ]
     },
     "execution_count": 56,
     "metadata": {},
     "output_type": "execute_result"
    }
   ],
   "source": [
    "np.sum(np.argmax(X_train_preds, axis=1) == np.argmax(Y_aug, axis=1)) / len(Y_aug)"
   ]
  },
  {
   "cell_type": "code",
   "execution_count": 58,
   "metadata": {},
   "outputs": [
    {
     "data": {
      "text/plain": [
       "0.9795918367346939"
      ]
     },
     "execution_count": 58,
     "metadata": {},
     "output_type": "execute_result"
    }
   ],
   "source": [
    "X_test_preds = lstm_model.predict(X_val.reshape(X_val.shape[0], SEQUENCE_LENGTH, -1))\n",
    "np.sum(np.argmax(X_test_preds, axis=1) == Y_val) / len(Y_val)"
   ]
  },
  {
   "cell_type": "code",
   "execution_count": 59,
   "metadata": {},
   "outputs": [
    {
     "name": "stderr",
     "output_type": "stream",
     "text": [
      "WARNING:absl:Found untraced functions such as lstm_cell_1_layer_call_fn, lstm_cell_1_layer_call_and_return_conditional_losses, lstm_cell_2_layer_call_fn, lstm_cell_2_layer_call_and_return_conditional_losses while saving (showing 4 of 4). These functions will not be directly callable after loading.\n"
     ]
    },
    {
     "name": "stdout",
     "output_type": "stream",
     "text": [
      "INFO:tensorflow:Assets written to: ..\\models\\LSTM_ROTATION_AUG_98.ckpt\\assets\n"
     ]
    },
    {
     "name": "stderr",
     "output_type": "stream",
     "text": [
      "INFO:tensorflow:Assets written to: ..\\models\\LSTM_ROTATION_AUG_98.ckpt\\assets\n",
      "WARNING:absl:<keras.layers.recurrent.LSTMCell object at 0x0000024AAE012BF0> has the same name 'LSTMCell' as a built-in Keras object. Consider renaming <class 'keras.layers.recurrent.LSTMCell'> to avoid naming conflicts when loading with `tf.keras.models.load_model`. If renaming is not possible, pass the object in the `custom_objects` parameter of the load function.\n",
      "WARNING:absl:<keras.layers.recurrent.LSTMCell object at 0x0000024AAE013520> has the same name 'LSTMCell' as a built-in Keras object. Consider renaming <class 'keras.layers.recurrent.LSTMCell'> to avoid naming conflicts when loading with `tf.keras.models.load_model`. If renaming is not possible, pass the object in the `custom_objects` parameter of the load function.\n"
     ]
    }
   ],
   "source": [
    "lstm_model.save(os.path.join(\"..\", \"models\", \"LSTM_ROTATION_AUG_98.ckpt\"))"
   ]
  },
  {
   "cell_type": "code",
   "execution_count": 256,
   "metadata": {},
   "outputs": [],
   "source": [
    "from sklearn.metrics import ConfusionMatrixDisplay, confusion_matrix"
   ]
  },
  {
   "cell_type": "code",
   "execution_count": 263,
   "metadata": {},
   "outputs": [
    {
     "data": {
      "image/png": "[encoded data removed]",
      "text/plain": [
       "<Figure size 640x480 with 2 Axes>"
      ]
     },
     "metadata": {},
     "output_type": "display_data"
    }
   ],
   "source": [
    "cm = confusion_matrix(\n",
    "    y_true=np.argmax(Y_val, axis=1), \n",
    "    y_pred=np.argmax(val_preds, axis=1))\n",
    "\n",
    "\n",
    "disp = ConfusionMatrixDisplay(\n",
    "    confusion_matrix=cm)\n",
    "\n",
    "disp.plot()\n",
    "plt.show()"
   ]
  },
  {
   "cell_type": "code",
   "execution_count": 254,
   "metadata": {},
   "outputs": [
    {
     "ename": "TypeError",
     "evalue": "imshow() missing 1 required positional argument: 'X'",
     "output_type": "error",
     "traceback": [
      "\u001b[1;31m---------------------------------------------------------------------------\u001b[0m",
      "\u001b[1;31mTypeError\u001b[0m                                 Traceback (most recent call last)",
      "\u001b[1;32mc:\\Users\\Piotr\\Python_projects\\Computer-Vision-Sign-Language\\jupyter_notebooks\\relative_pose_est.ipynb Cell 81\u001b[0m line \u001b[0;36m1\n\u001b[0;32m      <a href='vscode-notebook-cell:/c%3A/Users/Piotr/Python_projects/Computer-Vision-Sign-Language/jupyter_notebooks/relative_pose_est.ipynb#Y142sZmlsZQ%3D%3D?line=0'>1</a>\u001b[0m fig, ax \u001b[39m=\u001b[39m plt\u001b[39m.\u001b[39msubplots(figsize\u001b[39m=\u001b[39m(\u001b[39m8\u001b[39m, \u001b[39m8\u001b[39m))\n\u001b[0;32m      <a href='vscode-notebook-cell:/c%3A/Users/Piotr/Python_projects/Computer-Vision-Sign-Language/jupyter_notebooks/relative_pose_est.ipynb#Y142sZmlsZQ%3D%3D?line=2'>3</a>\u001b[0m ConfusionMatrixDisplay\u001b[39m.\u001b[39mfrom_predictions(\n\u001b[0;32m      <a href='vscode-notebook-cell:/c%3A/Users/Piotr/Python_projects/Computer-Vision-Sign-Language/jupyter_notebooks/relative_pose_est.ipynb#Y142sZmlsZQ%3D%3D?line=3'>4</a>\u001b[0m     y_true\u001b[39m=\u001b[39mnp\u001b[39m.\u001b[39margmax(Y_val, axis\u001b[39m=\u001b[39m\u001b[39m1\u001b[39m),\n\u001b[0;32m      <a href='vscode-notebook-cell:/c%3A/Users/Piotr/Python_projects/Computer-Vision-Sign-Language/jupyter_notebooks/relative_pose_est.ipynb#Y142sZmlsZQ%3D%3D?line=4'>5</a>\u001b[0m     y_pred\u001b[39m=\u001b[39mnp\u001b[39m.\u001b[39margmax(val_preds, axis\u001b[39m=\u001b[39m\u001b[39m1\u001b[39m),\n\u001b[0;32m      <a href='vscode-notebook-cell:/c%3A/Users/Piotr/Python_projects/Computer-Vision-Sign-Language/jupyter_notebooks/relative_pose_est.ipynb#Y142sZmlsZQ%3D%3D?line=5'>6</a>\u001b[0m     display_labels\u001b[39m=\u001b[39mmapping_classes\u001b[39m.\u001b[39mkeys(),\n\u001b[0;32m      <a href='vscode-notebook-cell:/c%3A/Users/Piotr/Python_projects/Computer-Vision-Sign-Language/jupyter_notebooks/relative_pose_est.ipynb#Y142sZmlsZQ%3D%3D?line=6'>7</a>\u001b[0m     ax\u001b[39m=\u001b[39max)\n\u001b[1;32m---> <a href='vscode-notebook-cell:/c%3A/Users/Piotr/Python_projects/Computer-Vision-Sign-Language/jupyter_notebooks/relative_pose_est.ipynb#Y142sZmlsZQ%3D%3D?line=9'>10</a>\u001b[0m plt\u001b[39m.\u001b[39;49mimshow()\n",
      "\u001b[1;31mTypeError\u001b[0m: imshow() missing 1 required positional argument: 'X'"
     ]
    },
    {
     "data": {
      "image/png": "[encoded data removed]",
      "text/plain": [
       "<Figure size 800x800 with 2 Axes>"
      ]
     },
     "metadata": {},
     "output_type": "display_data"
    }
   ],
   "source": [
    "fig, ax = plt.subplots(figsize=(8, 8))\n",
    "\n",
    "ConfusionMatrixDisplay.from_predictions(\n",
    "    y_true=np.argmax(Y_val, axis=1),\n",
    "    y_pred=np.argmax(val_preds, axis=1),\n",
    "    display_labels=mapping_classes.keys(),\n",
    "    ax=ax)\n",
    "\n",
    "\n",
    "plt.imshow()\n"
   ]
  },
  {
   "cell_type": "code",
   "execution_count": 248,
   "metadata": {},
   "outputs": [
    {
     "name": "stderr",
     "output_type": "stream",
     "text": [
      "WARNING:absl:Found untraced functions such as lstm_cell_52_layer_call_fn, lstm_cell_52_layer_call_and_return_conditional_losses, lstm_cell_53_layer_call_fn, lstm_cell_53_layer_call_and_return_conditional_losses while saving (showing 4 of 4). These functions will not be directly callable after loading.\n"
     ]
    },
    {
     "name": "stdout",
     "output_type": "stream",
     "text": [
      "INFO:tensorflow:Assets written to: ..\\models\\LSTM_ROTATION_AUG_93.ckpt\\assets\n"
     ]
    },
    {
     "name": "stderr",
     "output_type": "stream",
     "text": [
      "INFO:tensorflow:Assets written to: ..\\models\\LSTM_ROTATION_AUG_93.ckpt\\assets\n",
      "WARNING:absl:<keras.layers.recurrent.LSTMCell object at 0x00000245ADF9FC10> has the same name 'LSTMCell' as a built-in Keras object. Consider renaming <class 'keras.layers.recurrent.LSTMCell'> to avoid naming conflicts when loading with `tf.keras.models.load_model`. If renaming is not possible, pass the object in the `custom_objects` parameter of the load function.\n",
      "WARNING:absl:<keras.layers.recurrent.LSTMCell object at 0x00000245ADF9F250> has the same name 'LSTMCell' as a built-in Keras object. Consider renaming <class 'keras.layers.recurrent.LSTMCell'> to avoid naming conflicts when loading with `tf.keras.models.load_model`. If renaming is not possible, pass the object in the `custom_objects` parameter of the load function.\n"
     ]
    }
   ],
   "source": [
    "lstm_model.save(os.path.join(\"..\", \"models\", \"LSTM_ROTATION_AUG_93.ckpt\"))"
   ]
  },
  {
   "cell_type": "code",
   "execution_count": 366,
   "metadata": {},
   "outputs": [],
   "source": [
    "X_val_train, X_val_test, Y_val_train, Y_val_test = train_test_split(\n",
    "    X_val, \n",
    "    Y_val,\n",
    "    train_size=0.667, \n",
    "    random_state=42, \n",
    "    stratify=Y_val\n",
    ")"
   ]
  },
  {
   "cell_type": "code",
   "execution_count": 367,
   "metadata": {},
   "outputs": [],
   "source": [
    "X_val_train, Y_val_train = rot_aug(\n",
    "    X=X_val_train, \n",
    "    Y=Y_val_train,\n",
    "    rot_mat_f=get_rot_y, \n",
    "    angles=train_angels_y,\n",
    "    set_part=0.5,\n",
    "    translation_vec=translation_vec\n",
    ")"
   ]
  },
  {
   "cell_type": "code",
   "execution_count": 368,
   "metadata": {},
   "outputs": [
    {
     "data": {
      "text/plain": [
       "((3456, 15, 12, 3), (3456,))"
      ]
     },
     "execution_count": 368,
     "metadata": {},
     "output_type": "execute_result"
    }
   ],
   "source": [
    "X_val_train.shape, Y_val_train.shape"
   ]
  },
  {
   "cell_type": "code",
   "execution_count": 369,
   "metadata": {},
   "outputs": [],
   "source": [
    "X_val_train, Y_val_train = rot_aug(\n",
    "    X=X_val_train, \n",
    "    Y=Y_val_train,\n",
    "    rot_mat_f=get_rot_x, \n",
    "    angles=train_angles_x,\n",
    "    set_part=0.3\n",
    ")"
   ]
  },
  {
   "cell_type": "code",
   "execution_count": 370,
   "metadata": {},
   "outputs": [],
   "source": [
    "X_val_train, Y_val_train = rot_aug(\n",
    "    X=X_val_train, \n",
    "    Y=Y_val_train,\n",
    "    rot_mat_f=get_rot_z, \n",
    "    angles=train_angles_z,\n",
    "    set_part=0.2\n",
    ")"
   ]
  },
  {
   "cell_type": "code",
   "execution_count": 371,
   "metadata": {},
   "outputs": [
    {
     "data": {
      "text/plain": [
       "((26732, 15, 12, 3), (26732,))"
      ]
     },
     "execution_count": 371,
     "metadata": {},
     "output_type": "execute_result"
    }
   ],
   "source": [
    "X_val_train.shape, Y_val_train.shape"
   ]
  },
  {
   "cell_type": "code",
   "execution_count": 372,
   "metadata": {},
   "outputs": [
    {
     "data": {
      "text/plain": [
       "[1, 0, 3, 2, 5, 4, 7, 6, 9, 8, 11, 10]"
      ]
     },
     "execution_count": 372,
     "metadata": {},
     "output_type": "execute_result"
    }
   ],
   "source": [
    "swap_pattern = [i + 1 if i % 2 == 0 else i - 1 for i in range(12)]\n",
    "swap_pattern"
   ]
  },
  {
   "cell_type": "code",
   "execution_count": 373,
   "metadata": {},
   "outputs": [],
   "source": [
    "indexes_swap_hands = np.random.choice(\n",
    "    np.arange(X_val_train.shape[0]), \n",
    "    int(0.07 * X_val_train.shape[0]), \n",
    "    replace=False\n",
    ")"
   ]
  },
  {
   "cell_type": "code",
   "execution_count": 374,
   "metadata": {},
   "outputs": [],
   "source": [
    "X_val_train[indexes_swap_hands] = X_val_train[indexes_swap_hands][:, :, swap_pattern]"
   ]
  },
  {
   "cell_type": "code",
   "execution_count": 375,
   "metadata": {},
   "outputs": [],
   "source": [
    "indexes_gauss = np.random.choice(\n",
    "    np.arange(X_val_train.shape[0]), \n",
    "    int(0.3 * X_val_train.shape[0]), \n",
    "    replace=False\n",
    ")"
   ]
  },
  {
   "cell_type": "code",
   "execution_count": 376,
   "metadata": {},
   "outputs": [],
   "source": [
    "gauss_noise = np.random.normal(0, 0.1, size=len(indexes_gauss))"
   ]
  },
  {
   "cell_type": "code",
   "execution_count": 377,
   "metadata": {},
   "outputs": [],
   "source": [
    "gauss_noise = gauss_noise[:, np.newaxis, np.newaxis, np.newaxis]"
   ]
  },
  {
   "cell_type": "code",
   "execution_count": 378,
   "metadata": {},
   "outputs": [],
   "source": [
    "X_val_train[indexes_gauss, :, :, :] += gauss_noise"
   ]
  },
  {
   "cell_type": "code",
   "execution_count": 403,
   "metadata": {},
   "outputs": [],
   "source": [
    "model = tf.keras.models.load_model(\n",
    "    os.path.join(\"..\", \"models\", \"LSTM_ROTATION_AUG_93.ckpt\")\n",
    ")"
   ]
  },
  {
   "cell_type": "code",
   "execution_count": 404,
   "metadata": {},
   "outputs": [],
   "source": [
    "model.compile(\n",
    "    optimizer=tfa.optimizers.AdamW(weight_decay=0.002, learning_rate=1e-14, clipnorm=1.0), #choosing optimizer\n",
    "    loss=tf.keras.losses.CategoricalCrossentropy(from_logits=False), #loss function\n",
    "    metrics=['categorical_accuracy']\n",
    ") "
   ]
  },
  {
   "cell_type": "code",
   "execution_count": 405,
   "metadata": {},
   "outputs": [],
   "source": [
    "callbacks = [EarlyStopping(monitor='val_loss', patience=ES_PATIENCE, restore_best_weights=True),\n",
    "             CSVLogger(path_to_convlstm_history, append=True),\n",
    "             ReduceLROnPlateau(monitor='val_loss', factor=0.5, patience=LR_REDUCE)]"
   ]
  },
  {
   "cell_type": "code",
   "execution_count": 381,
   "metadata": {},
   "outputs": [],
   "source": [
    "X_val_train = X_val_train.reshape(X_val_train.shape[0], SEQUENCE_LENGTH, -1)\n",
    "X_val_train = tf.cast(X_val_train, tf.float32)"
   ]
  },
  {
   "cell_type": "code",
   "execution_count": 382,
   "metadata": {},
   "outputs": [],
   "source": [
    "Y_val_train = to_categorical(Y_val_train)"
   ]
  },
  {
   "cell_type": "code",
   "execution_count": 355,
   "metadata": {},
   "outputs": [],
   "source": [
    "# tf.data.experimental.enable_debug_mode()"
   ]
  },
  {
   "cell_type": "code",
   "execution_count": 392,
   "metadata": {},
   "outputs": [],
   "source": [
    "model.layers[0].trainable = False"
   ]
  },
  {
   "cell_type": "code",
   "execution_count": 406,
   "metadata": {},
   "outputs": [
    {
     "name": "stdout",
     "output_type": "stream",
     "text": [
      "Epoch 1/50\n",
      "42/42 [==============================] - 3s 74ms/step - loss: 0.4461 - categorical_accuracy: 0.8904 - val_loss: 0.4808 - val_categorical_accuracy: 0.8700 - lr: 1.0000e-14\n",
      "Epoch 2/50\n",
      "42/42 [==============================] - 3s 77ms/step - loss: 0.6213 - categorical_accuracy: 0.8177 - val_loss: 0.7442 - val_categorical_accuracy: 0.7558 - lr: 1.0000e-14\n",
      "Epoch 3/50\n",
      "42/42 [==============================] - 3s 75ms/step - loss: 0.9233 - categorical_accuracy: 0.6587 - val_loss: 1.0592 - val_categorical_accuracy: 0.5788 - lr: 1.0000e-14\n",
      "Epoch 4/50\n",
      "12/42 [=======>......................] - ETA: 2s - loss: 1.1170 - categorical_accuracy: 0.5508"
     ]
    },
    {
     "ename": "KeyboardInterrupt",
     "evalue": "",
     "output_type": "error",
     "traceback": [
      "\u001b[1;31m---------------------------------------------------------------------------\u001b[0m",
      "\u001b[1;31mKeyboardInterrupt\u001b[0m                         Traceback (most recent call last)",
      "\u001b[1;32mc:\\Users\\Piotr\\Python_projects\\Computer-Vision-Sign-Language\\jupyter_notebooks\\relative_pose_est.ipynb Cell 104\u001b[0m line \u001b[0;36m1\n\u001b[1;32m----> <a href='vscode-notebook-cell:/c%3A/Users/Piotr/Python_projects/Computer-Vision-Sign-Language/jupyter_notebooks/relative_pose_est.ipynb#Y235sZmlsZQ%3D%3D?line=0'>1</a>\u001b[0m lstm_history_finetuning \u001b[39m=\u001b[39m model\u001b[39m.\u001b[39;49mfit(  \n\u001b[0;32m      <a href='vscode-notebook-cell:/c%3A/Users/Piotr/Python_projects/Computer-Vision-Sign-Language/jupyter_notebooks/relative_pose_est.ipynb#Y235sZmlsZQ%3D%3D?line=1'>2</a>\u001b[0m     x\u001b[39m=\u001b[39;49mX_val_train,\n\u001b[0;32m      <a href='vscode-notebook-cell:/c%3A/Users/Piotr/Python_projects/Computer-Vision-Sign-Language/jupyter_notebooks/relative_pose_est.ipynb#Y235sZmlsZQ%3D%3D?line=2'>3</a>\u001b[0m     y\u001b[39m=\u001b[39;49mY_val_train,\n\u001b[0;32m      <a href='vscode-notebook-cell:/c%3A/Users/Piotr/Python_projects/Computer-Vision-Sign-Language/jupyter_notebooks/relative_pose_est.ipynb#Y235sZmlsZQ%3D%3D?line=3'>4</a>\u001b[0m     \u001b[39m# validation_data=(X_val_kp_diff, Y_val),\u001b[39;49;00m\n\u001b[0;32m      <a href='vscode-notebook-cell:/c%3A/Users/Piotr/Python_projects/Computer-Vision-Sign-Language/jupyter_notebooks/relative_pose_est.ipynb#Y235sZmlsZQ%3D%3D?line=4'>5</a>\u001b[0m     validation_split\u001b[39m=\u001b[39;49m\u001b[39m0.2\u001b[39;49m,\n\u001b[0;32m      <a href='vscode-notebook-cell:/c%3A/Users/Piotr/Python_projects/Computer-Vision-Sign-Language/jupyter_notebooks/relative_pose_est.ipynb#Y235sZmlsZQ%3D%3D?line=5'>6</a>\u001b[0m     epochs\u001b[39m=\u001b[39;49mEPOCHS,\n\u001b[0;32m      <a href='vscode-notebook-cell:/c%3A/Users/Piotr/Python_projects/Computer-Vision-Sign-Language/jupyter_notebooks/relative_pose_est.ipynb#Y235sZmlsZQ%3D%3D?line=6'>7</a>\u001b[0m     batch_size\u001b[39m=\u001b[39;49mBATCH_SIZE,\n\u001b[0;32m      <a href='vscode-notebook-cell:/c%3A/Users/Piotr/Python_projects/Computer-Vision-Sign-Language/jupyter_notebooks/relative_pose_est.ipynb#Y235sZmlsZQ%3D%3D?line=7'>8</a>\u001b[0m     validation_batch_size\u001b[39m=\u001b[39;49mVAL_BATCH_SIZE,\n\u001b[0;32m      <a href='vscode-notebook-cell:/c%3A/Users/Piotr/Python_projects/Computer-Vision-Sign-Language/jupyter_notebooks/relative_pose_est.ipynb#Y235sZmlsZQ%3D%3D?line=8'>9</a>\u001b[0m     workers\u001b[39m=\u001b[39;49m\u001b[39m-\u001b[39;49m\u001b[39m1\u001b[39;49m,\n\u001b[0;32m     <a href='vscode-notebook-cell:/c%3A/Users/Piotr/Python_projects/Computer-Vision-Sign-Language/jupyter_notebooks/relative_pose_est.ipynb#Y235sZmlsZQ%3D%3D?line=9'>10</a>\u001b[0m     use_multiprocessing\u001b[39m=\u001b[39;49m\u001b[39mTrue\u001b[39;49;00m,\n\u001b[0;32m     <a href='vscode-notebook-cell:/c%3A/Users/Piotr/Python_projects/Computer-Vision-Sign-Language/jupyter_notebooks/relative_pose_est.ipynb#Y235sZmlsZQ%3D%3D?line=10'>11</a>\u001b[0m     callbacks \u001b[39m=\u001b[39;49m callbacks\n\u001b[0;32m     <a href='vscode-notebook-cell:/c%3A/Users/Piotr/Python_projects/Computer-Vision-Sign-Language/jupyter_notebooks/relative_pose_est.ipynb#Y235sZmlsZQ%3D%3D?line=11'>12</a>\u001b[0m )\n",
      "File \u001b[1;32mc:\\Users\\Piotr\\.conda\\envs\\slr-env\\lib\\site-packages\\keras\\utils\\traceback_utils.py:64\u001b[0m, in \u001b[0;36mfilter_traceback.<locals>.error_handler\u001b[1;34m(*args, **kwargs)\u001b[0m\n\u001b[0;32m     62\u001b[0m filtered_tb \u001b[39m=\u001b[39m \u001b[39mNone\u001b[39;00m\n\u001b[0;32m     63\u001b[0m \u001b[39mtry\u001b[39;00m:\n\u001b[1;32m---> 64\u001b[0m   \u001b[39mreturn\u001b[39;00m fn(\u001b[39m*\u001b[39margs, \u001b[39m*\u001b[39m\u001b[39m*\u001b[39mkwargs)\n\u001b[0;32m     65\u001b[0m \u001b[39mexcept\u001b[39;00m \u001b[39mException\u001b[39;00m \u001b[39mas\u001b[39;00m e:  \u001b[39m# pylint: disable=broad-except\u001b[39;00m\n\u001b[0;32m     66\u001b[0m   filtered_tb \u001b[39m=\u001b[39m _process_traceback_frames(e\u001b[39m.\u001b[39m__traceback__)\n",
      "File \u001b[1;32mc:\\Users\\Piotr\\.conda\\envs\\slr-env\\lib\\site-packages\\keras\\engine\\training.py:1376\u001b[0m, in \u001b[0;36mModel.fit\u001b[1;34m(self, x, y, batch_size, epochs, verbose, callbacks, validation_split, validation_data, shuffle, class_weight, sample_weight, initial_epoch, steps_per_epoch, validation_steps, validation_batch_size, validation_freq, max_queue_size, workers, use_multiprocessing)\u001b[0m\n\u001b[0;32m   1374\u001b[0m callbacks\u001b[39m.\u001b[39mon_epoch_begin(epoch)\n\u001b[0;32m   1375\u001b[0m \u001b[39mwith\u001b[39;00m data_handler\u001b[39m.\u001b[39mcatch_stop_iteration():\n\u001b[1;32m-> 1376\u001b[0m   \u001b[39mfor\u001b[39;00m step \u001b[39min\u001b[39;00m data_handler\u001b[39m.\u001b[39msteps():\n\u001b[0;32m   1377\u001b[0m     \u001b[39mwith\u001b[39;00m tf\u001b[39m.\u001b[39mprofiler\u001b[39m.\u001b[39mexperimental\u001b[39m.\u001b[39mTrace(\n\u001b[0;32m   1378\u001b[0m         \u001b[39m'\u001b[39m\u001b[39mtrain\u001b[39m\u001b[39m'\u001b[39m,\n\u001b[0;32m   1379\u001b[0m         epoch_num\u001b[39m=\u001b[39mepoch,\n\u001b[0;32m   1380\u001b[0m         step_num\u001b[39m=\u001b[39mstep,\n\u001b[0;32m   1381\u001b[0m         batch_size\u001b[39m=\u001b[39mbatch_size,\n\u001b[0;32m   1382\u001b[0m         _r\u001b[39m=\u001b[39m\u001b[39m1\u001b[39m):\n\u001b[0;32m   1383\u001b[0m       callbacks\u001b[39m.\u001b[39mon_train_batch_begin(step)\n",
      "File \u001b[1;32mc:\\Users\\Piotr\\.conda\\envs\\slr-env\\lib\\site-packages\\keras\\engine\\data_adapter.py:1246\u001b[0m, in \u001b[0;36mDataHandler.steps\u001b[1;34m(self)\u001b[0m\n\u001b[0;32m   1244\u001b[0m \u001b[39mif\u001b[39;00m \u001b[39mself\u001b[39m\u001b[39m.\u001b[39m_insufficient_data:  \u001b[39m# Set by `catch_stop_iteration`.\u001b[39;00m\n\u001b[0;32m   1245\u001b[0m   \u001b[39mbreak\u001b[39;00m\n\u001b[1;32m-> 1246\u001b[0m original_spe \u001b[39m=\u001b[39m \u001b[39mself\u001b[39;49m\u001b[39m.\u001b[39;49m_steps_per_execution\u001b[39m.\u001b[39;49mnumpy()\u001b[39m.\u001b[39mitem()\n\u001b[0;32m   1247\u001b[0m can_run_full_execution \u001b[39m=\u001b[39m (\n\u001b[0;32m   1248\u001b[0m     original_spe \u001b[39m==\u001b[39m \u001b[39m1\u001b[39m \u001b[39mor\u001b[39;00m\n\u001b[0;32m   1249\u001b[0m     \u001b[39mself\u001b[39m\u001b[39m.\u001b[39m_inferred_steps \u001b[39mis\u001b[39;00m \u001b[39mNone\u001b[39;00m \u001b[39mor\u001b[39;00m\n\u001b[0;32m   1250\u001b[0m     \u001b[39mself\u001b[39m\u001b[39m.\u001b[39m_inferred_steps \u001b[39m-\u001b[39m \u001b[39mself\u001b[39m\u001b[39m.\u001b[39m_current_step \u001b[39m>\u001b[39m\u001b[39m=\u001b[39m\n\u001b[0;32m   1251\u001b[0m     original_spe)\n\u001b[0;32m   1253\u001b[0m \u001b[39mif\u001b[39;00m can_run_full_execution:\n",
      "File \u001b[1;32mc:\\Users\\Piotr\\.conda\\envs\\slr-env\\lib\\site-packages\\tensorflow\\python\\ops\\resource_variable_ops.py:674\u001b[0m, in \u001b[0;36mBaseResourceVariable.numpy\u001b[1;34m(self)\u001b[0m\n\u001b[0;32m    672\u001b[0m \u001b[39mdef\u001b[39;00m \u001b[39mnumpy\u001b[39m(\u001b[39mself\u001b[39m):\n\u001b[0;32m    673\u001b[0m   \u001b[39mif\u001b[39;00m context\u001b[39m.\u001b[39mexecuting_eagerly():\n\u001b[1;32m--> 674\u001b[0m     \u001b[39mreturn\u001b[39;00m \u001b[39mself\u001b[39;49m\u001b[39m.\u001b[39;49mread_value()\u001b[39m.\u001b[39;49mnumpy()\n\u001b[0;32m    675\u001b[0m   \u001b[39mraise\u001b[39;00m \u001b[39mNotImplementedError\u001b[39;00m(\n\u001b[0;32m    676\u001b[0m       \u001b[39m\"\u001b[39m\u001b[39mnumpy() is only available when eager execution is enabled.\u001b[39m\u001b[39m\"\u001b[39m)\n",
      "File \u001b[1;32mc:\\Users\\Piotr\\.conda\\envs\\slr-env\\lib\\site-packages\\tensorflow\\python\\framework\\ops.py:1223\u001b[0m, in \u001b[0;36m_EagerTensorBase.numpy\u001b[1;34m(self)\u001b[0m\n\u001b[0;32m   1200\u001b[0m \u001b[39m\u001b[39m\u001b[39m\"\"\"Copy of the contents of this Tensor into a NumPy array or scalar.\u001b[39;00m\n\u001b[0;32m   1201\u001b[0m \n\u001b[0;32m   1202\u001b[0m \u001b[39mUnlike NumPy arrays, Tensors are immutable, so this method has to copy\u001b[39;00m\n\u001b[1;32m   (...)\u001b[0m\n\u001b[0;32m   1220\u001b[0m \u001b[39m    NumPy dtype.\u001b[39;00m\n\u001b[0;32m   1221\u001b[0m \u001b[39m\"\"\"\u001b[39;00m\n\u001b[0;32m   1222\u001b[0m \u001b[39m# TODO(slebedev): Consider avoiding a copy for non-CPU or remote tensors.\u001b[39;00m\n\u001b[1;32m-> 1223\u001b[0m maybe_arr \u001b[39m=\u001b[39m \u001b[39mself\u001b[39;49m\u001b[39m.\u001b[39;49m_numpy()  \u001b[39m# pylint: disable=protected-access\u001b[39;00m\n\u001b[0;32m   1224\u001b[0m \u001b[39mreturn\u001b[39;00m maybe_arr\u001b[39m.\u001b[39mcopy() \u001b[39mif\u001b[39;00m \u001b[39misinstance\u001b[39m(maybe_arr, np\u001b[39m.\u001b[39mndarray) \u001b[39melse\u001b[39;00m maybe_arr\n",
      "File \u001b[1;32mc:\\Users\\Piotr\\.conda\\envs\\slr-env\\lib\\site-packages\\tensorflow\\python\\framework\\ops.py:1189\u001b[0m, in \u001b[0;36m_EagerTensorBase._numpy\u001b[1;34m(self)\u001b[0m\n\u001b[0;32m   1187\u001b[0m \u001b[39mdef\u001b[39;00m \u001b[39m_numpy\u001b[39m(\u001b[39mself\u001b[39m):\n\u001b[0;32m   1188\u001b[0m   \u001b[39mtry\u001b[39;00m:\n\u001b[1;32m-> 1189\u001b[0m     \u001b[39mreturn\u001b[39;00m \u001b[39mself\u001b[39;49m\u001b[39m.\u001b[39;49m_numpy_internal()\n\u001b[0;32m   1190\u001b[0m   \u001b[39mexcept\u001b[39;00m core\u001b[39m.\u001b[39m_NotOkStatusException \u001b[39mas\u001b[39;00m e:  \u001b[39m# pylint: disable=protected-access\u001b[39;00m\n\u001b[0;32m   1191\u001b[0m     \u001b[39mraise\u001b[39;00m core\u001b[39m.\u001b[39m_status_to_exception(e) \u001b[39mfrom\u001b[39;00m \u001b[39mNone\u001b[39;00m\n",
      "\u001b[1;31mKeyboardInterrupt\u001b[0m: "
     ]
    }
   ],
   "source": [
    "lstm_history_finetuning = model.fit(  \n",
    "    x=X_val_train,\n",
    "    y=Y_val_train,\n",
    "    # validation_data=(X_val_kp_diff, Y_val),\n",
    "    validation_split=0.2,\n",
    "    epochs=EPOCHS,\n",
    "    batch_size=BATCH_SIZE,\n",
    "    validation_batch_size=VAL_BATCH_SIZE,\n",
    "    workers=-1,\n",
    "    use_multiprocessing=True,\n",
    "    callbacks = callbacks\n",
    ")"
   ]
  },
  {
   "cell_type": "code",
   "execution_count": 394,
   "metadata": {},
   "outputs": [
    {
     "name": "stdout",
     "output_type": "stream",
     "text": [
      "Model: \"sequential_17\"\n",
      "_________________________________________________________________\n",
      " Layer (type)                Output Shape              Param #   \n",
      "=================================================================\n",
      " bidirectional_17 (Bidirecti  (None, 128)              51712     \n",
      " onal)                                                           \n",
      "                                                                 \n",
      " dropout_15 (Dropout)        (None, 128)               0         \n",
      "                                                                 \n",
      " dense_17 (Dense)            (None, 5)                 645       \n",
      "                                                                 \n",
      "=================================================================\n",
      "Total params: 52,357\n",
      "Trainable params: 645\n",
      "Non-trainable params: 51,712\n",
      "_________________________________________________________________\n"
     ]
    }
   ],
   "source": [
    "model.summary()"
   ]
  },
  {
   "cell_type": "code",
   "execution_count": 396,
   "metadata": {},
   "outputs": [],
   "source": [
    "train_val_preds = model.predict(X_val_train)"
   ]
  },
  {
   "cell_type": "code",
   "execution_count": 397,
   "metadata": {},
   "outputs": [
    {
     "data": {
      "text/plain": [
       "0.9754227143498428"
      ]
     },
     "execution_count": 397,
     "metadata": {},
     "output_type": "execute_result"
    }
   ],
   "source": [
    "np.sum(np.argmax(train_val_preds, axis=1) == np.argmax(Y_val_train, axis=1)) / len(Y_val_train)"
   ]
  },
  {
   "cell_type": "code",
   "execution_count": 399,
   "metadata": {},
   "outputs": [
    {
     "data": {
      "text/plain": [
       "TensorShape([186122, 15, 36])"
      ]
     },
     "execution_count": 399,
     "metadata": {},
     "output_type": "execute_result"
    }
   ],
   "source": [
    "X_aug.shape"
   ]
  },
  {
   "cell_type": "code",
   "execution_count": null,
   "metadata": {},
   "outputs": [],
   "source": [
    "train_preds = model.predict(X_aug)"
   ]
  },
  {
   "cell_type": "code",
   "execution_count": null,
   "metadata": {},
   "outputs": [],
   "source": [
    "np.sum(np.argmax(train_preds, axis=1) == np.argmax(Y_aug, axis=1)) / len(Y_aug)"
   ]
  },
  {
   "cell_type": "code",
   "execution_count": 400,
   "metadata": {},
   "outputs": [],
   "source": [
    "val_preds = model.predict(X_val_test.reshape(X_val_test.shape[0], SEQUENCE_LENGTH, -1))"
   ]
  },
  {
   "cell_type": "code",
   "execution_count": 402,
   "metadata": {},
   "outputs": [
    {
     "data": {
      "text/plain": [
       "0.8958333333333334"
      ]
     },
     "execution_count": 402,
     "metadata": {},
     "output_type": "execute_result"
    }
   ],
   "source": [
    "np.sum(np.argmax(val_preds, axis=1) == Y_val_test) / len(Y_val_test)"
   ]
  },
  {
   "cell_type": "code",
   "execution_count": null,
   "metadata": {},
   "outputs": [],
   "source": [
    "org_preds = model.predict(X.reshape(X.shape[0], SEQUENCE_LENGTH, -1))"
   ]
  },
  {
   "cell_type": "code",
   "execution_count": null,
   "metadata": {},
   "outputs": [
    {
     "data": {
      "text/plain": [
       "0.8819444444444444"
      ]
     },
     "metadata": {},
     "output_type": "display_data"
    }
   ],
   "source": [
    "np.sum(np.argmax(val_preds, axis=1) == np.argmax(Y_val, axis=1)) / len(Y_val)"
   ]
  },
  {
   "cell_type": "code",
   "execution_count": null,
   "metadata": {},
   "outputs": [
    {
     "data": {
      "text/plain": [
       "0.9330543933054394"
      ]
     },
     "metadata": {},
     "output_type": "display_data"
    }
   ],
   "source": [
    "np.sum(np.argmax(org_preds, axis=1) == Y) / len(Y)"
   ]
  }
 ],
 "metadata": {
  "kernelspec": {
   "display_name": "slr-env",
   "language": "python",
   "name": "python3"
  },
  "language_info": {
   "codemirror_mode": {
    "name": "ipython",
    "version": 3
   },
   "file_extension": ".py",
   "mimetype": "text/x-python",
   "name": "python",
   "nbconvert_exporter": "python",
   "pygments_lexer": "ipython3",
   "version": "3.10.11"
  }
 },
 "nbformat": 4,
 "nbformat_minor": 2
}
