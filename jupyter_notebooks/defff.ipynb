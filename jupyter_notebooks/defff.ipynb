{
 "cells": [
  {
   "cell_type": "code",
   "execution_count": 1,
   "metadata": {},
   "outputs": [],
   "source": [
    "import os"
   ]
  },
  {
   "cell_type": "code",
   "execution_count": 3,
   "metadata": {},
   "outputs": [],
   "source": [
    "p1 = r'C:\\Users\\Piotr.Matys\\Desktop\\to_verify'\n",
    "p2 = r'C:\\Users\\Piotr.Matys\\Python_Projects\\Computer-Vision-Sign-Language\\WLASL\\start_kit\\raw_videos'"
   ]
  },
  {
   "cell_type": "code",
   "execution_count": 4,
   "metadata": {},
   "outputs": [],
   "source": [
    "p1_vid = os.listdir(p1)\n",
    "p2_vid = os.listdir(p2)"
   ]
  },
  {
   "cell_type": "code",
   "execution_count": 5,
   "metadata": {},
   "outputs": [
    {
     "data": {
      "text/plain": [
       "{'57655.mp4',\n",
       " '57656.mp4',\n",
       " '57657.mp4',\n",
       " '57659.mp4',\n",
       " '57667.mp4',\n",
       " '62966.mp4',\n",
       " '62967.mp4',\n",
       " '62979.mp4',\n",
       " '7XHOmZYiBew.mp4',\n",
       " 'DAZB0eVf5t0.mp4',\n",
       " 'DYjjcoTkNa0.mp4',\n",
       " 'FVjpLa8GqeM.mp4',\n",
       " 'rnb9FxPO7is.mp4',\n",
       " 'sSdQWC7mUZc.mp4'}"
      ]
     },
     "execution_count": 5,
     "metadata": {},
     "output_type": "execute_result"
    }
   ],
   "source": [
    "set(p2_vid).difference(set(p1_vid))"
   ]
  }
 ],
 "metadata": {
  "kernelspec": {
   "display_name": "slr-env",
   "language": "python",
   "name": "python3"
  },
  "language_info": {
   "codemirror_mode": {
    "name": "ipython",
    "version": 3
   },
   "file_extension": ".py",
   "mimetype": "text/x-python",
   "name": "python",
   "nbconvert_exporter": "python",
   "pygments_lexer": "ipython3",
   "version": "3.10.11"
  }
 },
 "nbformat": 4,
 "nbformat_minor": 2
}
