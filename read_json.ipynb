{
 "cells": [
  {
   "cell_type": "markdown",
   "metadata": {},
   "source": [
    "### **Import needed libraries**"
   ]
  },
  {
   "cell_type": "code",
   "execution_count": 36,
   "metadata": {},
   "outputs": [],
   "source": [
    "import json\n",
    "import os\n",
    "import cv2\n",
    "import shutil"
   ]
  },
  {
   "cell_type": "markdown",
   "metadata": {},
   "source": [
    "### **Load json data about videos**"
   ]
  },
  {
   "cell_type": "code",
   "execution_count": 2,
   "metadata": {},
   "outputs": [],
   "source": [
    "with open('videos_json_data.json', 'r') as f:\n",
    "    data = json.load(f)"
   ]
  },
  {
   "cell_type": "markdown",
   "metadata": {},
   "source": [
    "### **Extract videos' needed indexes**"
   ]
  },
  {
   "cell_type": "code",
   "execution_count": 19,
   "metadata": {},
   "outputs": [
    {
     "name": "stdout",
     "output_type": "stream",
     "text": [
      "drink - ['69302', '65539', '70173', '68538', '68042', '68660', '68041', '17725', '17726', '17727', '17728', '17710', '17729', '17730', '17731', '17732', '17733', '65540', '17734', '17711', '17712', '17713', '17714', '17715', '17716', '17717', '17718', '17709', '67594', '17719', '17720', '17721', '17722', '17723', '17724']\n",
      "\n",
      "please - ['43213', '69434', '70220', '68670', '43225', '43226', '43217', '67083', '43218', '43219', '43220', '43221', '43222', '43223', '43224']\n",
      "\n",
      "hello - ['27171', '70017', '68236', '27180', '67755', '27181', '27182', '27183', '27184', '27172', '27173', '27175', '27177']\n",
      "\n"
     ]
    }
   ],
   "source": [
    "videos_indexes_dict = {}\n",
    "for index, word_dict in enumerate(data):\n",
    "    if word_dict['gloss'] in ['hello', 'drink', 'please']:\n",
    "        videos_indexes_dict[word_dict['gloss']] = [word_dict['instances'][i]['video_id'] for i in range(len(word_dict['instances']))]\n",
    "        print(f\"{word_dict['gloss']} - {[word_dict['instances'][i]['video_id'] for i in range(len(word_dict['instances']))]}\\n\")"
   ]
  },
  {
   "cell_type": "markdown",
   "metadata": {},
   "source": [
    "### **Chosing only these which are not present in missing.txt**"
   ]
  },
  {
   "cell_type": "code",
   "execution_count": 22,
   "metadata": {},
   "outputs": [],
   "source": [
    "with open('missing.txt', 'r') as miss:\n",
    "    missing_indexes = miss.readlines()\n",
    "    missing_indexes = [index.strip() for index in missing_indexes]"
   ]
  },
  {
   "cell_type": "code",
   "execution_count": 26,
   "metadata": {},
   "outputs": [],
   "source": [
    "cleared_videos_indexes_dict = {label: list(set(label_indexes).difference(set(missing_indexes))) for label, label_indexes in videos_indexes_dict.items()}"
   ]
  },
  {
   "cell_type": "code",
   "execution_count": 27,
   "metadata": {},
   "outputs": [
    {
     "data": {
      "text/plain": [
       "{'drink': ['17711',\n",
       "  '17734',\n",
       "  '17712',\n",
       "  '17713',\n",
       "  '17710',\n",
       "  '17733',\n",
       "  '17723',\n",
       "  '17722',\n",
       "  '65539',\n",
       "  '17724',\n",
       "  '17709',\n",
       "  '17721',\n",
       "  '65540',\n",
       "  '17720',\n",
       "  '69302'],\n",
       " 'please': ['43226', '43220', '43222', '43217', '43219', '43218', '69434'],\n",
       " 'hello': ['27172', '27184', '27177', '27173']}"
      ]
     },
     "execution_count": 27,
     "metadata": {},
     "output_type": "execute_result"
    }
   ],
   "source": [
    "cleared_videos_indexes_dict"
   ]
  },
  {
   "cell_type": "code",
   "execution_count": 38,
   "metadata": {},
   "outputs": [
    {
     "data": {
      "text/plain": [
       "'C:/Users/Piotr/Downloads/archive/sign_language_videos'"
      ]
     },
     "execution_count": 38,
     "metadata": {},
     "output_type": "execute_result"
    }
   ],
   "source": [
    "path_to_folder_with_videos = \"C:/Users/Piotr/Downloads/archive/sign_language_videos\"\n",
    "path_to_folder_with_videos"
   ]
  },
  {
   "cell_type": "markdown",
   "metadata": {},
   "source": [
    "### **Chech how filenames look like**"
   ]
  },
  {
   "cell_type": "code",
   "execution_count": 51,
   "metadata": {},
   "outputs": [
    {
     "data": {
      "text/plain": [
       "['00335.mp4', '00336.mp4', '00338.mp4']"
      ]
     },
     "execution_count": 51,
     "metadata": {},
     "output_type": "execute_result"
    }
   ],
   "source": [
    "videos_names = os.listdir(path_to_folder_with_videos)\n",
    "videos_names[:3]"
   ]
  },
  {
   "cell_type": "code",
   "execution_count": 47,
   "metadata": {},
   "outputs": [
    {
     "data": {
      "text/plain": [
       "'C:/Users/Piotr/Downloads/archive/sign_language_videos'"
      ]
     },
     "execution_count": 47,
     "metadata": {},
     "output_type": "execute_result"
    }
   ],
   "source": [
    "path_to_folder_with_videos"
   ]
  },
  {
   "cell_type": "markdown",
   "metadata": {},
   "source": [
    "### **Getting frames from chosen videos**"
   ]
  },
  {
   "cell_type": "code",
   "execution_count": null,
   "metadata": {},
   "outputs": [],
   "source": [
    "for label, label_indexes in cleared_videos_indexes_dict.items():\n",
    "\n",
    "    if not os.path.exists(f'chosen_videos_frames/{label}'):\n",
    "        os.mkdir(f'chosen_videos_frames/{label}')\n",
    "\n",
    "    for index in label_indexes:\n",
    "\n",
    "        path_to_video = f'{path_to_folder_with_videos}/{index}.mp4'\n",
    "        capture = cv2.VideoCapture(path_to_video)\n",
    "\n",
    "        success, frame = capture.read()\n",
    "        frame_nr = 1\n",
    "\n",
    "        while success:\n",
    "            success, frame = capture.read()\n",
    "\n",
    "            if success:\n",
    "                path_to_frame = f'chosen_videos_frames/{label}/{index}_{frame_nr}.jpg'\n",
    "\n",
    "                if not os.path.exists(path_to_frame): \n",
    "                    cv2.imwrite(path_to_frame, frame)\n",
    "\n",
    "            frame_nr += 1\n",
    "        \n",
    "        capture.release()"
   ]
  }
 ],
 "metadata": {
  "kernelspec": {
   "display_name": "Python 3.9.12 ('base')",
   "language": "python",
   "name": "python3"
  },
  "language_info": {
   "codemirror_mode": {
    "name": "ipython",
    "version": 3
   },
   "file_extension": ".py",
   "mimetype": "text/x-python",
   "name": "python",
   "nbconvert_exporter": "python",
   "pygments_lexer": "ipython3",
   "version": "3.9.12"
  },
  "orig_nbformat": 4,
  "vscode": {
   "interpreter": {
    "hash": "ad2bdc8ecc057115af97d19610ffacc2b4e99fae6737bb82f5d7fb13d2f2c186"
   }
  }
 },
 "nbformat": 4,
 "nbformat_minor": 2
}
